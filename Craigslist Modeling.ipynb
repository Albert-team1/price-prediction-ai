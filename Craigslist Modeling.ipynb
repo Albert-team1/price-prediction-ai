{
 "cells": [
  {
   "cell_type": "code",
   "execution_count": 1,
   "metadata": {},
   "outputs": [],
   "source": [
    "import pandas as pd\n",
    "import numpy as np\n",
    "import sklearn"
   ]
  },
  {
   "cell_type": "code",
   "execution_count": 2,
   "metadata": {},
   "outputs": [],
   "source": [
    "data = pd.read_csv('vehicles.csv')"
   ]
  },
  {
   "cell_type": "code",
   "execution_count": 3,
   "metadata": {},
   "outputs": [
    {
     "data": {
      "text/plain": [
       "Index(['id', 'url', 'region', 'region_url', 'year', 'manufacturer', 'model',\n",
       "       'condition', 'cylinders', 'fuel', 'odometer', 'title_status',\n",
       "       'transmission', 'vin', 'drive', 'size', 'type', 'paint_color',\n",
       "       'image_url', 'description', 'county', 'state', 'lat', 'long',\n",
       "       'is_expensive', 'age', 'age_category', 'manufacturer_med_price',\n",
       "       'model_med_price', 'condition_med_price', 'paint_color_med_price',\n",
       "       'state_med_price', 'title_status_med_price', 'fuel_med_price',\n",
       "       'transmission_med_price', 'size_med_price', 'drive_med_price',\n",
       "       'type_med_price', 'manufacturer_median_price', 'model_median_price',\n",
       "       'condition_median_price', 'paint_color_median_price',\n",
       "       'state_median_price', 'title_status_median_price', 'fuel_median_price',\n",
       "       'transmission_median_price', 'size_median_price', 'drive_median_price',\n",
       "       'type_median_price', 'manufacturer_count_price', 'model_count_price',\n",
       "       'condition_count_price', 'paint_color_count_price', 'state_count_price',\n",
       "       'title_status_count_price', 'fuel_count_price',\n",
       "       'transmission_count_price', 'size_count_price', 'drive_count_price',\n",
       "       'type_count_price'],\n",
       "      dtype='object')"
      ]
     },
     "execution_count": 3,
     "metadata": {},
     "output_type": "execute_result"
    }
   ],
   "source": [
    "data.columns"
   ]
  },
  {
   "cell_type": "code",
   "execution_count": 4,
   "metadata": {},
   "outputs": [
    {
     "data": {
      "text/plain": [
       "clean         412803\n",
       "rebuilt        11648\n",
       "salvage         5572\n",
       "lien            2857\n",
       "missing          763\n",
       "parts only       290\n",
       "Name: title_status, dtype: int64"
      ]
     },
     "execution_count": 4,
     "metadata": {},
     "output_type": "execute_result"
    }
   ],
   "source": [
    "data.title_status.value_counts()"
   ]
  },
  {
   "cell_type": "code",
   "execution_count": 5,
   "metadata": {},
   "outputs": [
    {
     "data": {
      "text/plain": [
       "SUV            80144\n",
       "sedan          79905\n",
       "pickup         40930\n",
       "truck          39506\n",
       "coupe          17404\n",
       "other          12866\n",
       "hatchback      12396\n",
       "van             9963\n",
       "wagon           9897\n",
       "convertible     8592\n",
       "mini-van        5906\n",
       "offroad          650\n",
       "bus              528\n",
       "Name: type, dtype: int64"
      ]
     },
     "execution_count": 5,
     "metadata": {},
     "output_type": "execute_result"
    }
   ],
   "source": [
    "data.type.value_counts()"
   ]
  },
  {
   "cell_type": "code",
   "execution_count": 6,
   "metadata": {},
   "outputs": [],
   "source": [
    "data_model = data[['age', 'manufacturer_median_price', 'model_median_price',\n",
    "       'condition_median_price', 'paint_color_median_price',\n",
    "        'manufacturer_count_price', 'model_count_price',\n",
    "       'condition_count_price', 'paint_color_count_price']]"
   ]
  },
  {
   "cell_type": "code",
   "execution_count": 7,
   "metadata": {},
   "outputs": [],
   "source": [
    "data_dummies = pd.get_dummies(data_model)"
   ]
  },
  {
   "cell_type": "code",
   "execution_count": 8,
   "metadata": {},
   "outputs": [
    {
     "data": {
      "text/plain": [
       "Index(['age', 'manufacturer_median_price', 'model_median_price',\n",
       "       'condition_median_price', 'paint_color_median_price',\n",
       "       'manufacturer_count_price', 'model_count_price',\n",
       "       'condition_count_price', 'paint_color_count_price'],\n",
       "      dtype='object')"
      ]
     },
     "execution_count": 8,
     "metadata": {},
     "output_type": "execute_result"
    }
   ],
   "source": [
    "data_dummies.columns"
   ]
  },
  {
   "cell_type": "code",
   "execution_count": 9,
   "metadata": {},
   "outputs": [
    {
     "data": {
      "text/plain": [
       "9"
      ]
     },
     "execution_count": 9,
     "metadata": {},
     "output_type": "execute_result"
    }
   ],
   "source": [
    "len(data_dummies.columns)"
   ]
  },
  {
   "cell_type": "code",
   "execution_count": 10,
   "metadata": {},
   "outputs": [
    {
     "data": {
      "text/plain": [
       "9"
      ]
     },
     "execution_count": 10,
     "metadata": {},
     "output_type": "execute_result"
    }
   ],
   "source": [
    "len(data_model.columns)"
   ]
  },
  {
   "cell_type": "code",
   "execution_count": 11,
   "metadata": {},
   "outputs": [],
   "source": [
    "from sklearn.model_selection import train_test_split"
   ]
  },
  {
   "cell_type": "code",
   "execution_count": 12,
   "metadata": {},
   "outputs": [],
   "source": [
    "orig = pd.read_csv('orig_vehicles.csv')"
   ]
  },
  {
   "cell_type": "code",
   "execution_count": 13,
   "metadata": {},
   "outputs": [],
   "source": [
    "y = orig['price'][0:435734]"
   ]
  },
  {
   "cell_type": "code",
   "execution_count": 14,
   "metadata": {},
   "outputs": [],
   "source": [
    "data_dummies['price'] = y"
   ]
  },
  {
   "cell_type": "code",
   "execution_count": 15,
   "metadata": {},
   "outputs": [],
   "source": [
    "X_train, X_test, y_train, y_test = train_test_split(data_dummies, y, test_size=0.30)"
   ]
  },
  {
   "cell_type": "code",
   "execution_count": 16,
   "metadata": {},
   "outputs": [],
   "source": [
    "from sklearn.linear_model import LinearRegression"
   ]
  },
  {
   "cell_type": "code",
   "execution_count": 17,
   "metadata": {},
   "outputs": [],
   "source": [
    "from sklearn.model_selection import cross_val_score"
   ]
  },
  {
   "cell_type": "code",
   "execution_count": 18,
   "metadata": {},
   "outputs": [
    {
     "data": {
      "text/plain": [
       "age                            1117\n",
       "manufacturer_median_price     20712\n",
       "model_median_price             6192\n",
       "condition_median_price       186742\n",
       "paint_color_median_price     135193\n",
       "manufacturer_count_price      20712\n",
       "model_count_price              6192\n",
       "condition_count_price        186742\n",
       "paint_color_count_price      135193\n",
       "price                             0\n",
       "dtype: int64"
      ]
     },
     "execution_count": 18,
     "metadata": {},
     "output_type": "execute_result"
    }
   ],
   "source": [
    "data_dummies.isnull().sum(axis = 0)"
   ]
  },
  {
   "cell_type": "code",
   "execution_count": 19,
   "metadata": {},
   "outputs": [],
   "source": [
    "mean_condition_price = np.mean(data.condition_median_price)\n",
    "mean_paint_price = np.mean(data.paint_color_median_price)\n",
    "mean_model_price = np.mean(data.model_median_price)\n",
    "median_age = np.median(data.age)\n",
    "mean_man_price = np.mean(data.manufacturer_median_price)\n",
    "mean_model_count = np.mean(data.model_count_price)\n",
    "mean_condition_count = np.mean(data.condition_count_price)\n",
    "mean_paint_count = np.mean(data.paint_color_count_price)\n",
    "mean_man_count = np.mean(data.manufacturer_count_price)"
   ]
  },
  {
   "cell_type": "code",
   "execution_count": 20,
   "metadata": {},
   "outputs": [
    {
     "data": {
      "text/plain": [
       "11.0"
      ]
     },
     "execution_count": 20,
     "metadata": {},
     "output_type": "execute_result"
    }
   ],
   "source": [
    "data_dummies.loc[0, 'age']"
   ]
  },
  {
   "cell_type": "code",
   "execution_count": 21,
   "metadata": {},
   "outputs": [],
   "source": [
    "from datetime import datetime"
   ]
  },
  {
   "cell_type": "code",
   "execution_count": 22,
   "metadata": {},
   "outputs": [
    {
     "data": {
      "text/plain": [
       "builtin_function_or_method"
      ]
     },
     "execution_count": 22,
     "metadata": {},
     "output_type": "execute_result"
    }
   ],
   "source": [
    "a = datetime.now()\n",
    "b = datetime.now()\n",
    "type((b - a).total_seconds)"
   ]
  },
  {
   "cell_type": "code",
   "execution_count": 23,
   "metadata": {},
   "outputs": [
    {
     "data": {
      "text/plain": [
       "datetime.datetime"
      ]
     },
     "execution_count": 23,
     "metadata": {},
     "output_type": "execute_result"
    }
   ],
   "source": [
    "type(a)"
   ]
  },
  {
   "cell_type": "code",
   "execution_count": 24,
   "metadata": {},
   "outputs": [
    {
     "data": {
      "text/plain": [
       "\"\\na = datetime.now()\\nfor index, row in data_dummies.iterrows():\\n    if index > 0 and index % 1000 == 0:\\n        b = datetime.now()\\n        # delta = (b - a).total_seconds\\n        print('Row: ' + str(index))\\n        #print('Time Taken: ' + str(((b - a).total_seconds * 1000)) + ' ms') \\n        print(((b - a).total_seconds() ))\\n        #print('ms')\\n        a = datetime.now()\\n    if pd.isnull(data_dummies.loc[index, 'age']):\\n        data_dummies.loc[index, 'age'] = median_age\\n    if pd.isnull(data_dummies.loc[index, 'manufacturer_median_price']):\\n        data_dummies.loc[index, 'manufacturer_median_price'] = mean_man_price\\n    if pd.isnull(data_dummies.loc[index, 'model_median_price']):\\n        data_dummies.loc[index, 'model_median_price'] = mean_model_price\\n    if pd.isnull(data_dummies.loc[index, 'condition_median_price']):\\n        data_dummies.loc[index, 'condition_median_price'] = mean_condition_price\\n    if pd.isnull(data_dummies.loc[index, 'paint_color_median_price']):\\n        data_dummies.loc[index, 'paint_color_median_price'] = mean_paint_price\\n    if pd.isnull(data_dummies.loc[index, 'manufacturer_count_price']):\\n        data_dummies.loc[index, 'manufacturer_count_price'] = mean_man_count\\n    if pd.isnull(data_dummies.loc[index, 'model_count_price']):\\n        data_dummies.loc[index, 'model_count_price'] = mean_model_count\\n    if pd.isnull(data_dummies.loc[index, 'condition_count_price']):\\n        data_dummies.loc[index, 'condition_count_price'] = mean_condition_count\\n    if pd.isnull(data_dummies.loc[index, 'paint_color_count_price']):\\n        data_dummies.loc[index, 'paint_color_count_price'] = mean_paint_count\\nc = datetime.now()\\n\""
      ]
     },
     "execution_count": 24,
     "metadata": {},
     "output_type": "execute_result"
    }
   ],
   "source": [
    "'''\n",
    "a = datetime.now()\n",
    "for index, row in data_dummies.iterrows():\n",
    "    if index > 0 and index % 1000 == 0:\n",
    "        b = datetime.now()\n",
    "        # delta = (b - a).total_seconds\n",
    "        print('Row: ' + str(index))\n",
    "        #print('Time Taken: ' + str(((b - a).total_seconds * 1000)) + ' ms') \n",
    "        print(((b - a).total_seconds() ))\n",
    "        #print('ms')\n",
    "        a = datetime.now()\n",
    "    if pd.isnull(data_dummies.loc[index, 'age']):\n",
    "        data_dummies.loc[index, 'age'] = median_age\n",
    "    if pd.isnull(data_dummies.loc[index, 'manufacturer_median_price']):\n",
    "        data_dummies.loc[index, 'manufacturer_median_price'] = mean_man_price\n",
    "    if pd.isnull(data_dummies.loc[index, 'model_median_price']):\n",
    "        data_dummies.loc[index, 'model_median_price'] = mean_model_price\n",
    "    if pd.isnull(data_dummies.loc[index, 'condition_median_price']):\n",
    "        data_dummies.loc[index, 'condition_median_price'] = mean_condition_price\n",
    "    if pd.isnull(data_dummies.loc[index, 'paint_color_median_price']):\n",
    "        data_dummies.loc[index, 'paint_color_median_price'] = mean_paint_price\n",
    "    if pd.isnull(data_dummies.loc[index, 'manufacturer_count_price']):\n",
    "        data_dummies.loc[index, 'manufacturer_count_price'] = mean_man_count\n",
    "    if pd.isnull(data_dummies.loc[index, 'model_count_price']):\n",
    "        data_dummies.loc[index, 'model_count_price'] = mean_model_count\n",
    "    if pd.isnull(data_dummies.loc[index, 'condition_count_price']):\n",
    "        data_dummies.loc[index, 'condition_count_price'] = mean_condition_count\n",
    "    if pd.isnull(data_dummies.loc[index, 'paint_color_count_price']):\n",
    "        data_dummies.loc[index, 'paint_color_count_price'] = mean_paint_count\n",
    "c = datetime.now()\n",
    "'''"
   ]
  },
  {
   "cell_type": "code",
   "execution_count": 25,
   "metadata": {},
   "outputs": [],
   "source": [
    "def fill_missing(data, column, value):\n",
    "    \n",
    "    var = list(data[column])\n",
    "    for i in range(0, len(var)):\n",
    "        if pd.isnull(var[i]):\n",
    "            var[i] = value\n",
    "    data[column] = var"
   ]
  },
  {
   "cell_type": "code",
   "execution_count": 26,
   "metadata": {},
   "outputs": [],
   "source": [
    "fill_missing(data_dummies, 'age', median_age)"
   ]
  },
  {
   "cell_type": "code",
   "execution_count": 27,
   "metadata": {},
   "outputs": [],
   "source": [
    "fill_missing(data_dummies, 'manufacturer_median_price', mean_man_price)"
   ]
  },
  {
   "cell_type": "code",
   "execution_count": 28,
   "metadata": {},
   "outputs": [],
   "source": [
    "fill_missing(data_dummies, 'condition_median_price', mean_condition_price)"
   ]
  },
  {
   "cell_type": "code",
   "execution_count": 29,
   "metadata": {},
   "outputs": [],
   "source": [
    "fill_missing(data_dummies, 'model_median_price', mean_model_price)"
   ]
  },
  {
   "cell_type": "code",
   "execution_count": 30,
   "metadata": {},
   "outputs": [],
   "source": [
    "fill_missing(data_dummies, 'paint_color_median_price', mean_paint_price)"
   ]
  },
  {
   "cell_type": "code",
   "execution_count": 31,
   "metadata": {},
   "outputs": [],
   "source": [
    "fill_missing(data_dummies, 'manufacturer_count_price', mean_man_count)"
   ]
  },
  {
   "cell_type": "code",
   "execution_count": 32,
   "metadata": {},
   "outputs": [],
   "source": [
    "fill_missing(data_dummies, 'model_count_price', mean_model_count)"
   ]
  },
  {
   "cell_type": "code",
   "execution_count": 33,
   "metadata": {},
   "outputs": [],
   "source": [
    "fill_missing(data_dummies, 'condition_count_price', mean_condition_count)"
   ]
  },
  {
   "cell_type": "code",
   "execution_count": 34,
   "metadata": {},
   "outputs": [],
   "source": [
    "fill_missing(data_dummies, 'paint_color_count_price', mean_paint_count)"
   ]
  },
  {
   "cell_type": "code",
   "execution_count": 35,
   "metadata": {},
   "outputs": [
    {
     "data": {
      "text/plain": [
       "age                          1117\n",
       "manufacturer_median_price       0\n",
       "model_median_price              0\n",
       "condition_median_price          0\n",
       "paint_color_median_price        0\n",
       "manufacturer_count_price        0\n",
       "model_count_price               0\n",
       "condition_count_price           0\n",
       "paint_color_count_price         0\n",
       "price                           0\n",
       "dtype: int64"
      ]
     },
     "execution_count": 35,
     "metadata": {},
     "output_type": "execute_result"
    }
   ],
   "source": [
    "data_dummies.isnull().sum(axis = 0)"
   ]
  },
  {
   "cell_type": "code",
   "execution_count": 36,
   "metadata": {},
   "outputs": [],
   "source": [
    "fill_missing(data_dummies, 'age', median_age)"
   ]
  },
  {
   "cell_type": "code",
   "execution_count": 37,
   "metadata": {},
   "outputs": [],
   "source": [
    "age = list(data_dummies['age'])\n",
    "x = list()\n",
    "for i in range(0, len(age)):\n",
    "    if pd.isnull(age[i]) == False:\n",
    "        x.append(age[i])\n",
    "        #age[i] = median_age"
   ]
  },
  {
   "cell_type": "code",
   "execution_count": 38,
   "metadata": {},
   "outputs": [],
   "source": [
    "median_age = np.median(x)"
   ]
  },
  {
   "cell_type": "code",
   "execution_count": 39,
   "metadata": {},
   "outputs": [
    {
     "data": {
      "text/plain": [
       "9.0"
      ]
     },
     "execution_count": 39,
     "metadata": {},
     "output_type": "execute_result"
    }
   ],
   "source": [
    "median_age"
   ]
  },
  {
   "cell_type": "code",
   "execution_count": 40,
   "metadata": {},
   "outputs": [],
   "source": [
    "fill_missing(data_dummies, 'age', median_age)"
   ]
  },
  {
   "cell_type": "code",
   "execution_count": 41,
   "metadata": {},
   "outputs": [
    {
     "data": {
      "text/plain": [
       "0          3495\n",
       "1         13750\n",
       "2          2300\n",
       "3          9000\n",
       "4             0\n",
       "          ...  \n",
       "435729    17500\n",
       "435730    13995\n",
       "435731     1799\n",
       "435732     6990\n",
       "435733    13000\n",
       "Name: price, Length: 435734, dtype: int64"
      ]
     },
     "execution_count": 41,
     "metadata": {},
     "output_type": "execute_result"
    }
   ],
   "source": [
    "y"
   ]
  },
  {
   "cell_type": "code",
   "execution_count": 42,
   "metadata": {},
   "outputs": [
    {
     "data": {
      "text/plain": [
       "Index(['age', 'manufacturer_median_price', 'model_median_price',\n",
       "       'condition_median_price', 'paint_color_median_price',\n",
       "       'manufacturer_count_price', 'model_count_price',\n",
       "       'condition_count_price', 'paint_color_count_price', 'price'],\n",
       "      dtype='object')"
      ]
     },
     "execution_count": 42,
     "metadata": {},
     "output_type": "execute_result"
    }
   ],
   "source": [
    "data_dummies.columns"
   ]
  },
  {
   "cell_type": "code",
   "execution_count": 43,
   "metadata": {},
   "outputs": [],
   "source": [
    "data_dummies.drop(['price'], axis=1, inplace=True)"
   ]
  },
  {
   "cell_type": "code",
   "execution_count": 44,
   "metadata": {},
   "outputs": [],
   "source": [
    "y = list()\n",
    "price = orig['price']"
   ]
  },
  {
   "cell_type": "code",
   "execution_count": 45,
   "metadata": {},
   "outputs": [],
   "source": [
    "for prices in price:\n",
    "    if prices < 250000:\n",
    "        y.append(prices)"
   ]
  },
  {
   "cell_type": "code",
   "execution_count": 46,
   "metadata": {},
   "outputs": [
    {
     "data": {
      "text/plain": [
       "435734"
      ]
     },
     "execution_count": 46,
     "metadata": {},
     "output_type": "execute_result"
    }
   ],
   "source": [
    "len(y)"
   ]
  },
  {
   "cell_type": "code",
   "execution_count": 47,
   "metadata": {},
   "outputs": [
    {
     "data": {
      "text/plain": [
       "435734"
      ]
     },
     "execution_count": 47,
     "metadata": {},
     "output_type": "execute_result"
    }
   ],
   "source": [
    "data_dummies.shape[0]"
   ]
  },
  {
   "cell_type": "code",
   "execution_count": 48,
   "metadata": {},
   "outputs": [],
   "source": [
    "X_train, X_test, y_train, y_test = train_test_split(data_dummies, y, test_size=0.30)"
   ]
  },
  {
   "cell_type": "code",
   "execution_count": 49,
   "metadata": {},
   "outputs": [
    {
     "data": {
      "text/plain": [
       "LinearRegression()"
      ]
     },
     "execution_count": 49,
     "metadata": {},
     "output_type": "execute_result"
    }
   ],
   "source": [
    "lr = LinearRegression()\n",
    "lr.fit(X_train, y_train)"
   ]
  },
  {
   "cell_type": "code",
   "execution_count": 50,
   "metadata": {},
   "outputs": [],
   "source": [
    "y_pred = lr.predict(X_test)"
   ]
  },
  {
   "cell_type": "code",
   "execution_count": 51,
   "metadata": {},
   "outputs": [],
   "source": [
    "from sklearn.metrics import mean_squared_error"
   ]
  },
  {
   "cell_type": "code",
   "execution_count": 52,
   "metadata": {},
   "outputs": [
    {
     "data": {
      "text/plain": [
       "12041.333832187227"
      ]
     },
     "execution_count": 52,
     "metadata": {},
     "output_type": "execute_result"
    }
   ],
   "source": [
    "np.sqrt(mean_squared_error(y_test, y_pred))"
   ]
  },
  {
   "cell_type": "code",
   "execution_count": 53,
   "metadata": {},
   "outputs": [
    {
     "data": {
      "text/plain": [
       "11991.90550224068"
      ]
     },
     "execution_count": 53,
     "metadata": {},
     "output_type": "execute_result"
    }
   ],
   "source": [
    "np.std(y)"
   ]
  },
  {
   "cell_type": "code",
   "execution_count": 54,
   "metadata": {},
   "outputs": [],
   "source": [
    "import pickle\n",
    "pickl = {'model': lr}\n",
    "pickle.dump( pickl, open( 'model_file' + \".p\", \"wb\" ) )"
   ]
  },
  {
   "cell_type": "code",
   "execution_count": 55,
   "metadata": {},
   "outputs": [],
   "source": [
    "file_name = \"model_file.p\"\n",
    "with open(file_name, 'rb') as pickled:\n",
    "    data = pickle.load(pickled)\n",
    "    model = data['model']"
   ]
  },
  {
   "cell_type": "code",
   "execution_count": 60,
   "metadata": {},
   "outputs": [
    {
     "data": {
      "text/plain": [
       "(9,)"
      ]
     },
     "execution_count": 60,
     "metadata": {},
     "output_type": "execute_result"
    }
   ],
   "source": [
    "np.array(list(X_test.iloc[1,:])).shape"
   ]
  },
  {
   "cell_type": "code",
   "execution_count": 61,
   "metadata": {},
   "outputs": [
    {
     "data": {
      "text/plain": [
       "(435734, 9)"
      ]
     },
     "execution_count": 61,
     "metadata": {},
     "output_type": "execute_result"
    }
   ],
   "source": [
    "data_dummies.shape"
   ]
  },
  {
   "cell_type": "code",
   "execution_count": 59,
   "metadata": {},
   "outputs": [
    {
     "data": {
      "text/plain": [
       "12983.41"
      ]
     },
     "execution_count": 59,
     "metadata": {},
     "output_type": "execute_result"
    }
   ],
   "source": [
    "round(model.predict(np.array(list(X_test.iloc[1,:])).reshape(1,-1))[0], 2)"
   ]
  },
  {
   "cell_type": "code",
   "execution_count": null,
   "metadata": {},
   "outputs": [],
   "source": [
    "import csv"
   ]
  }
 ],
 "metadata": {
  "kernelspec": {
   "display_name": "Python 3",
   "language": "python",
   "name": "python3"
  },
  "language_info": {
   "codemirror_mode": {
    "name": "ipython",
    "version": 3
   },
   "file_extension": ".py",
   "mimetype": "text/x-python",
   "name": "python",
   "nbconvert_exporter": "python",
   "pygments_lexer": "ipython3",
   "version": "3.8.3"
  }
 },
 "nbformat": 4,
 "nbformat_minor": 4
}
