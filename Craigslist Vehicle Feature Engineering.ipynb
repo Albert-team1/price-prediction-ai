{
 "cells": [
  {
   "cell_type": "code",
   "execution_count": 1,
   "metadata": {},
   "outputs": [],
   "source": [
    "import pandas as pd\n",
    "import seaborn as sns\n",
    "import numpy as np\n",
    "import matplotlib.pyplot as plt"
   ]
  },
  {
   "cell_type": "code",
   "execution_count": 2,
   "metadata": {},
   "outputs": [],
   "source": [
    "data = pd.read_csv('vehicles.csv')"
   ]
  },
  {
   "cell_type": "code",
   "execution_count": 3,
   "metadata": {},
   "outputs": [
    {
     "data": {
      "text/plain": [
       "Index(['id', 'url', 'region', 'region_url', 'year', 'manufacturer', 'model',\n",
       "       'condition', 'cylinders', 'fuel', 'odometer', 'title_status',\n",
       "       'transmission', 'vin', 'drive', 'size', 'type', 'paint_color',\n",
       "       'image_url', 'description', 'county', 'state', 'lat', 'long',\n",
       "       'is_expensive', 'age', 'age_category', 'manufacturer_med_price',\n",
       "       'model_med_price', 'condition_med_price', 'paint_color_med_price',\n",
       "       'state_med_price', 'title_status_med_price', 'fuel_med_price',\n",
       "       'transmission_med_price', 'size_med_price', 'drive_med_price',\n",
       "       'type_med_price', 'manufacturer_median_price', 'model_median_price',\n",
       "       'condition_median_price', 'paint_color_median_price',\n",
       "       'state_median_price', 'title_status_median_price', 'fuel_median_price',\n",
       "       'transmission_median_price', 'size_median_price', 'drive_median_price',\n",
       "       'type_median_price', 'manufacturer_count_price', 'model_count_price',\n",
       "       'condition_count_price', 'paint_color_count_price', 'state_count_price',\n",
       "       'title_status_count_price', 'fuel_count_price',\n",
       "       'transmission_count_price', 'size_count_price', 'drive_count_price',\n",
       "       'type_count_price'],\n",
       "      dtype='object')"
      ]
     },
     "execution_count": 3,
     "metadata": {},
     "output_type": "execute_result"
    }
   ],
   "source": [
    "data.columns"
   ]
  },
  {
   "cell_type": "code",
   "execution_count": 4,
   "metadata": {},
   "outputs": [
    {
     "data": {
      "text/html": [
       "<div>\n",
       "<style scoped>\n",
       "    .dataframe tbody tr th:only-of-type {\n",
       "        vertical-align: middle;\n",
       "    }\n",
       "\n",
       "    .dataframe tbody tr th {\n",
       "        vertical-align: top;\n",
       "    }\n",
       "\n",
       "    .dataframe thead th {\n",
       "        text-align: right;\n",
       "    }\n",
       "</style>\n",
       "<table border=\"1\" class=\"dataframe\">\n",
       "  <thead>\n",
       "    <tr style=\"text-align: right;\">\n",
       "      <th></th>\n",
       "      <th>id</th>\n",
       "      <th>url</th>\n",
       "      <th>region</th>\n",
       "      <th>region_url</th>\n",
       "      <th>year</th>\n",
       "      <th>manufacturer</th>\n",
       "      <th>model</th>\n",
       "      <th>condition</th>\n",
       "      <th>cylinders</th>\n",
       "      <th>fuel</th>\n",
       "      <th>...</th>\n",
       "      <th>model_count_price</th>\n",
       "      <th>condition_count_price</th>\n",
       "      <th>paint_color_count_price</th>\n",
       "      <th>state_count_price</th>\n",
       "      <th>title_status_count_price</th>\n",
       "      <th>fuel_count_price</th>\n",
       "      <th>transmission_count_price</th>\n",
       "      <th>size_count_price</th>\n",
       "      <th>drive_count_price</th>\n",
       "      <th>type_count_price</th>\n",
       "    </tr>\n",
       "  </thead>\n",
       "  <tbody>\n",
       "    <tr>\n",
       "      <th>0</th>\n",
       "      <td>7106420290</td>\n",
       "      <td>https://roanoke.craigslist.org/cto/d/lynchburg...</td>\n",
       "      <td>roanoke</td>\n",
       "      <td>https://roanoke.craigslist.org</td>\n",
       "      <td>2010.0</td>\n",
       "      <td>ford</td>\n",
       "      <td>f-150</td>\n",
       "      <td>like new</td>\n",
       "      <td>8 cylinders</td>\n",
       "      <td>gas</td>\n",
       "      <td>...</td>\n",
       "      <td>8512.0</td>\n",
       "      <td>27592.0</td>\n",
       "      <td>80063.0</td>\n",
       "      <td>11115</td>\n",
       "      <td>412803.0</td>\n",
       "      <td>376312.0</td>\n",
       "      <td>387089.0</td>\n",
       "      <td>40304.0</td>\n",
       "      <td>59958.0</td>\n",
       "      <td>9963.0</td>\n",
       "    </tr>\n",
       "    <tr>\n",
       "      <th>1</th>\n",
       "      <td>7115677666</td>\n",
       "      <td>https://hudsonvalley.craigslist.org/ctd/d/rens...</td>\n",
       "      <td>hudson valley</td>\n",
       "      <td>https://hudsonvalley.craigslist.org</td>\n",
       "      <td>2012.0</td>\n",
       "      <td>ram</td>\n",
       "      <td>1500</td>\n",
       "      <td>excellent</td>\n",
       "      <td>NaN</td>\n",
       "      <td>gas</td>\n",
       "      <td>...</td>\n",
       "      <td>4690.0</td>\n",
       "      <td>118422.0</td>\n",
       "      <td>30346.0</td>\n",
       "      <td>16921</td>\n",
       "      <td>412803.0</td>\n",
       "      <td>376312.0</td>\n",
       "      <td>387089.0</td>\n",
       "      <td>NaN</td>\n",
       "      <td>142694.0</td>\n",
       "      <td>40930.0</td>\n",
       "    </tr>\n",
       "    <tr>\n",
       "      <th>2</th>\n",
       "      <td>7111456955</td>\n",
       "      <td>https://saltlakecity.craigslist.org/ctd/d/kent...</td>\n",
       "      <td>salt lake city</td>\n",
       "      <td>https://saltlakecity.craigslist.org</td>\n",
       "      <td>2017.0</td>\n",
       "      <td>ram</td>\n",
       "      <td>1500 sport</td>\n",
       "      <td>NaN</td>\n",
       "      <td>8 cylinders</td>\n",
       "      <td>gas</td>\n",
       "      <td>...</td>\n",
       "      <td>96.0</td>\n",
       "      <td>NaN</td>\n",
       "      <td>NaN</td>\n",
       "      <td>1540</td>\n",
       "      <td>412803.0</td>\n",
       "      <td>376312.0</td>\n",
       "      <td>387089.0</td>\n",
       "      <td>NaN</td>\n",
       "      <td>142694.0</td>\n",
       "      <td>NaN</td>\n",
       "    </tr>\n",
       "    <tr>\n",
       "      <th>3</th>\n",
       "      <td>7106985966</td>\n",
       "      <td>https://odessa.craigslist.org/cto/d/odessa-201...</td>\n",
       "      <td>odessa / midland</td>\n",
       "      <td>https://odessa.craigslist.org</td>\n",
       "      <td>2015.0</td>\n",
       "      <td>chrysler</td>\n",
       "      <td>200</td>\n",
       "      <td>excellent</td>\n",
       "      <td>4 cylinders</td>\n",
       "      <td>gas</td>\n",
       "      <td>...</td>\n",
       "      <td>897.0</td>\n",
       "      <td>118422.0</td>\n",
       "      <td>59698.0</td>\n",
       "      <td>24507</td>\n",
       "      <td>11648.0</td>\n",
       "      <td>376312.0</td>\n",
       "      <td>387089.0</td>\n",
       "      <td>40304.0</td>\n",
       "      <td>111130.0</td>\n",
       "      <td>NaN</td>\n",
       "    </tr>\n",
       "    <tr>\n",
       "      <th>4</th>\n",
       "      <td>7109093373</td>\n",
       "      <td>https://onslow.craigslist.org/ctd/d/raleigh-20...</td>\n",
       "      <td>jacksonville</td>\n",
       "      <td>https://onslow.craigslist.org</td>\n",
       "      <td>2011.0</td>\n",
       "      <td>honda</td>\n",
       "      <td>accord</td>\n",
       "      <td>NaN</td>\n",
       "      <td>NaN</td>\n",
       "      <td>gas</td>\n",
       "      <td>...</td>\n",
       "      <td>3303.0</td>\n",
       "      <td>NaN</td>\n",
       "      <td>59698.0</td>\n",
       "      <td>17065</td>\n",
       "      <td>412803.0</td>\n",
       "      <td>376312.0</td>\n",
       "      <td>387089.0</td>\n",
       "      <td>75430.0</td>\n",
       "      <td>NaN</td>\n",
       "      <td>79905.0</td>\n",
       "    </tr>\n",
       "  </tbody>\n",
       "</table>\n",
       "<p>5 rows × 60 columns</p>\n",
       "</div>"
      ],
      "text/plain": [
       "           id                                                url  \\\n",
       "0  7106420290  https://roanoke.craigslist.org/cto/d/lynchburg...   \n",
       "1  7115677666  https://hudsonvalley.craigslist.org/ctd/d/rens...   \n",
       "2  7111456955  https://saltlakecity.craigslist.org/ctd/d/kent...   \n",
       "3  7106985966  https://odessa.craigslist.org/cto/d/odessa-201...   \n",
       "4  7109093373  https://onslow.craigslist.org/ctd/d/raleigh-20...   \n",
       "\n",
       "             region                           region_url    year manufacturer  \\\n",
       "0           roanoke       https://roanoke.craigslist.org  2010.0         ford   \n",
       "1     hudson valley  https://hudsonvalley.craigslist.org  2012.0          ram   \n",
       "2    salt lake city  https://saltlakecity.craigslist.org  2017.0          ram   \n",
       "3  odessa / midland        https://odessa.craigslist.org  2015.0     chrysler   \n",
       "4      jacksonville        https://onslow.craigslist.org  2011.0        honda   \n",
       "\n",
       "        model  condition    cylinders fuel  ...  model_count_price  \\\n",
       "0       f-150   like new  8 cylinders  gas  ...             8512.0   \n",
       "1        1500  excellent          NaN  gas  ...             4690.0   \n",
       "2  1500 sport        NaN  8 cylinders  gas  ...               96.0   \n",
       "3         200  excellent  4 cylinders  gas  ...              897.0   \n",
       "4      accord        NaN          NaN  gas  ...             3303.0   \n",
       "\n",
       "  condition_count_price paint_color_count_price state_count_price  \\\n",
       "0               27592.0                 80063.0             11115   \n",
       "1              118422.0                 30346.0             16921   \n",
       "2                   NaN                     NaN              1540   \n",
       "3              118422.0                 59698.0             24507   \n",
       "4                   NaN                 59698.0             17065   \n",
       "\n",
       "  title_status_count_price fuel_count_price transmission_count_price  \\\n",
       "0                 412803.0         376312.0                 387089.0   \n",
       "1                 412803.0         376312.0                 387089.0   \n",
       "2                 412803.0         376312.0                 387089.0   \n",
       "3                  11648.0         376312.0                 387089.0   \n",
       "4                 412803.0         376312.0                 387089.0   \n",
       "\n",
       "  size_count_price drive_count_price type_count_price  \n",
       "0          40304.0           59958.0           9963.0  \n",
       "1              NaN          142694.0          40930.0  \n",
       "2              NaN          142694.0              NaN  \n",
       "3          40304.0          111130.0              NaN  \n",
       "4          75430.0               NaN          79905.0  \n",
       "\n",
       "[5 rows x 60 columns]"
      ]
     },
     "execution_count": 4,
     "metadata": {},
     "output_type": "execute_result"
    }
   ],
   "source": [
    "data.head(5)"
   ]
  },
  {
   "cell_type": "code",
   "execution_count": 5,
   "metadata": {},
   "outputs": [
    {
     "data": {
      "text/plain": [
       "clean         412803\n",
       "rebuilt        11648\n",
       "salvage         5572\n",
       "lien            2857\n",
       "missing          763\n",
       "parts only       290\n",
       "Name: title_status, dtype: int64"
      ]
     },
     "execution_count": 5,
     "metadata": {},
     "output_type": "execute_result"
    }
   ],
   "source": [
    "data.title_status.value_counts()"
   ]
  },
  {
   "cell_type": "code",
   "execution_count": 6,
   "metadata": {},
   "outputs": [
    {
     "data": {
      "text/plain": [
       "SUV            80144\n",
       "sedan          79905\n",
       "pickup         40930\n",
       "truck          39506\n",
       "coupe          17404\n",
       "other          12866\n",
       "hatchback      12396\n",
       "van             9963\n",
       "wagon           9897\n",
       "convertible     8592\n",
       "mini-van        5906\n",
       "offroad          650\n",
       "bus              528\n",
       "Name: type, dtype: int64"
      ]
     },
     "execution_count": 6,
     "metadata": {},
     "output_type": "execute_result"
    }
   ],
   "source": [
    "data.type.value_counts()"
   ]
  },
  {
   "cell_type": "code",
   "execution_count": 7,
   "metadata": {},
   "outputs": [
    {
     "data": {
      "text/plain": [
       "full-size      75430\n",
       "mid-size       40304\n",
       "compact        20906\n",
       "sub-compact     3224\n",
       "Name: size, dtype: int64"
      ]
     },
     "execution_count": 7,
     "metadata": {},
     "output_type": "execute_result"
    }
   ],
   "source": [
    "data['size'].value_counts()"
   ]
  },
  {
   "cell_type": "code",
   "execution_count": 48,
   "metadata": {},
   "outputs": [],
   "source": [
    "''' Use different column names to split data and get median price from those columns, but made to get any value from any data'''\n",
    "# @params \n",
    "# g is a dataframe\n",
    "\n",
    "def get_group_value(data, group, operation, value):\n",
    "    \n",
    "    g = data.get_group(group)\n",
    "    struct = dict()\n",
    "    if operation == 'median':\n",
    "        struct[group] = np.median(g[value]) # could cause error with None Types\n",
    "    elif operation == 'count':\n",
    "        struct[group] = g.shape[0]\n",
    "    return round(struct[group], 2)"
   ]
  },
  {
   "cell_type": "code",
   "execution_count": 33,
   "metadata": {},
   "outputs": [],
   "source": [
    "man = data.manufacturer.value_counts()"
   ]
  },
  {
   "cell_type": "code",
   "execution_count": 39,
   "metadata": {},
   "outputs": [
    {
     "data": {
      "text/plain": [
       "78250"
      ]
     },
     "execution_count": 39,
     "metadata": {},
     "output_type": "execute_result"
    }
   ],
   "source": [
    "man.head()['ford']"
   ]
  },
  {
   "cell_type": "code",
   "execution_count": 10,
   "metadata": {},
   "outputs": [],
   "source": [
    "x = pd.DataFrame(data.manufacturer.value_counts())"
   ]
  },
  {
   "cell_type": "code",
   "execution_count": 11,
   "metadata": {},
   "outputs": [
    {
     "data": {
      "text/plain": [
       "Index(['ford', 'chevrolet', 'toyota', 'nissan', 'honda', 'ram', 'jeep', 'gmc',\n",
       "       'dodge', 'bmw', 'hyundai', 'subaru', 'volkswagen', 'mercedes-benz',\n",
       "       'kia', 'chrysler', 'cadillac', 'lexus', 'buick', 'mazda', 'audi',\n",
       "       'acura', 'infiniti', 'lincoln', 'pontiac', 'volvo', 'mitsubishi',\n",
       "       'mini', 'rover', 'mercury', 'saturn', 'fiat', 'jaguar', 'tesla',\n",
       "       'harley-davidson', 'ferrari', 'datsun', 'alfa-romeo', 'aston-martin',\n",
       "       'porche', 'land rover', 'morgan'],\n",
       "      dtype='object')"
      ]
     },
     "execution_count": 11,
     "metadata": {},
     "output_type": "execute_result"
    }
   ],
   "source": [
    "x.index"
   ]
  },
  {
   "cell_type": "code",
   "execution_count": 12,
   "metadata": {},
   "outputs": [],
   "source": [
    "y = list(x.index)"
   ]
  },
  {
   "cell_type": "code",
   "execution_count": 13,
   "metadata": {},
   "outputs": [
    {
     "data": {
      "text/plain": [
       "Index(['ford', 'chevrolet', 'toyota', 'nissan', 'honda', 'ram', 'jeep', 'gmc',\n",
       "       'dodge', 'bmw', 'hyundai', 'subaru', 'volkswagen', 'mercedes-benz',\n",
       "       'kia', 'chrysler', 'cadillac', 'lexus', 'buick', 'mazda', 'audi',\n",
       "       'acura', 'infiniti', 'lincoln', 'pontiac', 'volvo', 'mitsubishi',\n",
       "       'mini', 'rover', 'mercury', 'saturn', 'fiat', 'jaguar', 'tesla',\n",
       "       'harley-davidson', 'ferrari', 'datsun', 'alfa-romeo', 'aston-martin',\n",
       "       'porche', 'land rover', 'morgan'],\n",
       "      dtype='object')"
      ]
     },
     "execution_count": 13,
     "metadata": {},
     "output_type": "execute_result"
    }
   ],
   "source": [
    "data.manufacturer.value_counts().index"
   ]
  },
  {
   "cell_type": "code",
   "execution_count": 14,
   "metadata": {},
   "outputs": [],
   "source": [
    "def add_column(data, variable, column_name, struct):\n",
    "    \n",
    "    # variable is manufacturer for first one\n",
    "    column = create_data(data[variable], struct) # creates the list which will become the column\n",
    "    \n",
    "    '''\n",
    "    if column_name == 'manufacturer':\n",
    "        column = add_manufacturers(data.manufacturer, struct)\n",
    "    elif column_name == 'model':\n",
    "        column = add_models(data.models)\n",
    "    elif column_name == 'condition':\n",
    "        column = add_conditions(data.conditions)\n",
    "    elif column_name == 'state':\n",
    "        column = add_states(data.state)\n",
    "    elif column_name == 'title':\n",
    "        column = add_titles(data.title)\n",
    "    elif column_name == 'fuel':\n",
    "        column = add_fuel(data.fuel)\n",
    "    elif column_name == 'transmission':\n",
    "        column = add_transmission(data.transmission)\n",
    "    elif column_name == 'size':\n",
    "        column = add_size(data.size)\n",
    "    elif column_name == 'drive':\n",
    "        column = add_drive(data.drive)\n",
    "    elif column_name == 'type':\n",
    "        column = add_type(data.type)\n",
    "    '''\n",
    "    \n",
    "    data[column_name] = column    "
   ]
  },
  {
   "cell_type": "code",
   "execution_count": 15,
   "metadata": {},
   "outputs": [],
   "source": [
    "def create_data(data, struct):\n",
    "    \n",
    "    column_values = list(data) # all the manufacturer values\n",
    "    out = list(range(0, len(column_values)))\n",
    "    i = 0\n",
    "    for value in column_values:\n",
    "        if value is None:\n",
    "            i += 1\n",
    "            continue\n",
    "        try:\n",
    "            out[i] = struct[value]\n",
    "        except:\n",
    "            out[i] = None\n",
    "        i += 1\n",
    "        \n",
    "    return out"
   ]
  },
  {
   "cell_type": "code",
   "execution_count": 16,
   "metadata": {},
   "outputs": [
    {
     "data": {
      "text/plain": [
       "Index(['id', 'url', 'region', 'region_url', 'price', 'year', 'manufacturer',\n",
       "       'model', 'condition', 'cylinders', 'fuel', 'odometer', 'title_status',\n",
       "       'transmission', 'vin', 'drive', 'size', 'type', 'paint_color',\n",
       "       'image_url', 'description', 'county', 'state', 'lat', 'long',\n",
       "       'is_expensive', 'age', 'age_category'],\n",
       "      dtype='object')"
      ]
     },
     "execution_count": 16,
     "metadata": {},
     "output_type": "execute_result"
    }
   ],
   "source": [
    "data.columns"
   ]
  },
  {
   "cell_type": "code",
   "execution_count": 49,
   "metadata": {},
   "outputs": [
    {
     "name": "stdout",
     "output_type": "stream",
     "text": [
      "Operation\n",
      "Column: manufacturer\n",
      "Column: model\n",
      "Column: condition\n",
      "Column: paint_color\n",
      "Column: state\n",
      "Column: title_status\n",
      "Column: fuel\n",
      "Column: transmission\n",
      "Column: size\n",
      "Column: drive\n",
      "Column: type\n",
      "Operation\n",
      "Column: manufacturer\n",
      "Column: model\n",
      "Column: condition\n",
      "Column: paint_color\n",
      "Column: state\n",
      "Column: title_status\n",
      "Column: fuel\n",
      "Column: transmission\n",
      "Column: size\n",
      "Column: drive\n",
      "Column: type\n"
     ]
    }
   ],
   "source": [
    "'''\n",
    "columns = ['manufacturer', 'model', 'condition', 'paint_color', 'state', 'title_status', 'fuel', 'transmission', 'size', 'drive', 'type']\n",
    "operations = ['median','count']\n",
    "\n",
    "for operation in operations:\n",
    "    print('Operation')\n",
    "    for column in columns:\n",
    "        print('Column: ' + column)\n",
    "        # get all the unique values for a certain column\n",
    "        unique_values = list(data[column].value_counts().index) \n",
    "        # grab the data segment for that column\n",
    "        struct = dict()\n",
    "        col_data = data.groupby(column)\n",
    "        for unique_value in unique_values:\n",
    "            if unique_value is None:\n",
    "                continue\n",
    "        # for every unique value in the specific column find the median price for the reselting data segment\n",
    "            struct[unique_value] = get_group_value(col_data, unique_value, operation,'price')\n",
    "        column_name = column + '_' + operation + '_' + 'price'\n",
    "    # adds a new column to the original dataset\n",
    "        add_column(data, column, column_name, struct)\n",
    "    '''"
   ]
  },
  {
   "cell_type": "code",
   "execution_count": 50,
   "metadata": {},
   "outputs": [
    {
     "data": {
      "text/plain": [
       "Index(['id', 'url', 'region', 'region_url', 'price', 'year', 'manufacturer',\n",
       "       'model', 'condition', 'cylinders', 'fuel', 'odometer', 'title_status',\n",
       "       'transmission', 'vin', 'drive', 'size', 'type', 'paint_color',\n",
       "       'image_url', 'description', 'county', 'state', 'lat', 'long',\n",
       "       'is_expensive', 'age', 'age_category', 'manufacturer_med_price',\n",
       "       'model_med_price', 'condition_med_price', 'paint_color_med_price',\n",
       "       'state_med_price', 'title_status_med_price', 'fuel_med_price',\n",
       "       'transmission_med_price', 'size_med_price', 'drive_med_price',\n",
       "       'type_med_price', 'manufacturer_median_price', 'model_median_price',\n",
       "       'condition_median_price', 'paint_color_median_price',\n",
       "       'state_median_price', 'title_status_median_price', 'fuel_median_price',\n",
       "       'transmission_median_price', 'size_median_price', 'drive_median_price',\n",
       "       'type_median_price', 'manufacturer_count_price', 'model_count_price',\n",
       "       'condition_count_price', 'paint_color_count_price', 'state_count_price',\n",
       "       'title_status_count_price', 'fuel_count_price',\n",
       "       'transmission_count_price', 'size_count_price', 'drive_count_price',\n",
       "       'type_count_price'],\n",
       "      dtype='object')"
      ]
     },
     "execution_count": 50,
     "metadata": {},
     "output_type": "execute_result"
    }
   ],
   "source": [
    "data.columns"
   ]
  },
  {
   "cell_type": "code",
   "execution_count": 52,
   "metadata": {},
   "outputs": [
    {
     "data": {
      "text/plain": [
       "'jeep'"
      ]
     },
     "execution_count": 52,
     "metadata": {},
     "output_type": "execute_result"
    }
   ],
   "source": [
    "data.loc[0,'manufacturer']"
   ]
  },
  {
   "cell_type": "code",
   "execution_count": 53,
   "metadata": {},
   "outputs": [
    {
     "data": {
      "text/plain": [
       "19699"
      ]
     },
     "execution_count": 53,
     "metadata": {},
     "output_type": "execute_result"
    }
   ],
   "source": [
    "data['manufacturer'].value_counts()['jeep']"
   ]
  },
  {
   "cell_type": "code",
   "execution_count": 54,
   "metadata": {},
   "outputs": [
    {
     "data": {
      "text/plain": [
       "19699.0"
      ]
     },
     "execution_count": 54,
     "metadata": {},
     "output_type": "execute_result"
    }
   ],
   "source": [
    "data.loc[0,'manufacturer_count_price']"
   ]
  },
  {
   "cell_type": "code",
   "execution_count": 55,
   "metadata": {},
   "outputs": [
    {
     "ename": "MemoryError",
     "evalue": "",
     "output_type": "error",
     "traceback": [
      "\u001b[1;31m---------------------------------------------------------------------------\u001b[0m",
      "\u001b[1;31mMemoryError\u001b[0m                               Traceback (most recent call last)",
      "\u001b[1;32m<ipython-input-55-313bc60051be>\u001b[0m in \u001b[0;36m<module>\u001b[1;34m\u001b[0m\n\u001b[1;32m----> 1\u001b[1;33m \u001b[0mdata\u001b[0m\u001b[1;33m.\u001b[0m\u001b[0mto_csv\u001b[0m\u001b[1;33m(\u001b[0m\u001b[0mindex\u001b[0m\u001b[1;33m=\u001b[0m\u001b[1;32mFalse\u001b[0m\u001b[1;33m)\u001b[0m\u001b[1;33m\u001b[0m\u001b[1;33m\u001b[0m\u001b[0m\n\u001b[0m",
      "\u001b[1;32m~\\anaconda3\\lib\\site-packages\\IPython\\core\\displayhook.py\u001b[0m in \u001b[0;36m__call__\u001b[1;34m(self, result)\u001b[0m\n\u001b[0;32m    266\u001b[0m                 \u001b[0mself\u001b[0m\u001b[1;33m.\u001b[0m\u001b[0mwrite_format_data\u001b[0m\u001b[1;33m(\u001b[0m\u001b[0mformat_dict\u001b[0m\u001b[1;33m,\u001b[0m \u001b[0mmd_dict\u001b[0m\u001b[1;33m)\u001b[0m\u001b[1;33m\u001b[0m\u001b[1;33m\u001b[0m\u001b[0m\n\u001b[0;32m    267\u001b[0m                 \u001b[0mself\u001b[0m\u001b[1;33m.\u001b[0m\u001b[0mlog_output\u001b[0m\u001b[1;33m(\u001b[0m\u001b[0mformat_dict\u001b[0m\u001b[1;33m)\u001b[0m\u001b[1;33m\u001b[0m\u001b[1;33m\u001b[0m\u001b[0m\n\u001b[1;32m--> 268\u001b[1;33m             \u001b[0mself\u001b[0m\u001b[1;33m.\u001b[0m\u001b[0mfinish_displayhook\u001b[0m\u001b[1;33m(\u001b[0m\u001b[1;33m)\u001b[0m\u001b[1;33m\u001b[0m\u001b[1;33m\u001b[0m\u001b[0m\n\u001b[0m\u001b[0;32m    269\u001b[0m \u001b[1;33m\u001b[0m\u001b[0m\n\u001b[0;32m    270\u001b[0m     \u001b[1;32mdef\u001b[0m \u001b[0mcull_cache\u001b[0m\u001b[1;33m(\u001b[0m\u001b[0mself\u001b[0m\u001b[1;33m)\u001b[0m\u001b[1;33m:\u001b[0m\u001b[1;33m\u001b[0m\u001b[1;33m\u001b[0m\u001b[0m\n",
      "\u001b[1;32m~\\anaconda3\\lib\\site-packages\\ipykernel\\displayhook.py\u001b[0m in \u001b[0;36mfinish_displayhook\u001b[1;34m(self)\u001b[0m\n\u001b[0;32m     77\u001b[0m         \u001b[0msys\u001b[0m\u001b[1;33m.\u001b[0m\u001b[0mstderr\u001b[0m\u001b[1;33m.\u001b[0m\u001b[0mflush\u001b[0m\u001b[1;33m(\u001b[0m\u001b[1;33m)\u001b[0m\u001b[1;33m\u001b[0m\u001b[1;33m\u001b[0m\u001b[0m\n\u001b[0;32m     78\u001b[0m         \u001b[1;32mif\u001b[0m \u001b[0mself\u001b[0m\u001b[1;33m.\u001b[0m\u001b[0mmsg\u001b[0m\u001b[1;33m[\u001b[0m\u001b[1;34m'content'\u001b[0m\u001b[1;33m]\u001b[0m\u001b[1;33m[\u001b[0m\u001b[1;34m'data'\u001b[0m\u001b[1;33m]\u001b[0m\u001b[1;33m:\u001b[0m\u001b[1;33m\u001b[0m\u001b[1;33m\u001b[0m\u001b[0m\n\u001b[1;32m---> 79\u001b[1;33m             \u001b[0mself\u001b[0m\u001b[1;33m.\u001b[0m\u001b[0msession\u001b[0m\u001b[1;33m.\u001b[0m\u001b[0msend\u001b[0m\u001b[1;33m(\u001b[0m\u001b[0mself\u001b[0m\u001b[1;33m.\u001b[0m\u001b[0mpub_socket\u001b[0m\u001b[1;33m,\u001b[0m \u001b[0mself\u001b[0m\u001b[1;33m.\u001b[0m\u001b[0mmsg\u001b[0m\u001b[1;33m,\u001b[0m \u001b[0mident\u001b[0m\u001b[1;33m=\u001b[0m\u001b[0mself\u001b[0m\u001b[1;33m.\u001b[0m\u001b[0mtopic\u001b[0m\u001b[1;33m)\u001b[0m\u001b[1;33m\u001b[0m\u001b[1;33m\u001b[0m\u001b[0m\n\u001b[0m\u001b[0;32m     80\u001b[0m         \u001b[0mself\u001b[0m\u001b[1;33m.\u001b[0m\u001b[0mmsg\u001b[0m \u001b[1;33m=\u001b[0m \u001b[1;32mNone\u001b[0m\u001b[1;33m\u001b[0m\u001b[1;33m\u001b[0m\u001b[0m\n",
      "\u001b[1;32m~\\anaconda3\\lib\\site-packages\\jupyter_client\\session.py\u001b[0m in \u001b[0;36msend\u001b[1;34m(self, stream, msg_or_type, content, parent, ident, buffers, track, header, metadata)\u001b[0m\n\u001b[0;32m    745\u001b[0m         \u001b[1;32mif\u001b[0m \u001b[0mself\u001b[0m\u001b[1;33m.\u001b[0m\u001b[0madapt_version\u001b[0m\u001b[1;33m:\u001b[0m\u001b[1;33m\u001b[0m\u001b[1;33m\u001b[0m\u001b[0m\n\u001b[0;32m    746\u001b[0m             \u001b[0mmsg\u001b[0m \u001b[1;33m=\u001b[0m \u001b[0madapt\u001b[0m\u001b[1;33m(\u001b[0m\u001b[0mmsg\u001b[0m\u001b[1;33m,\u001b[0m \u001b[0mself\u001b[0m\u001b[1;33m.\u001b[0m\u001b[0madapt_version\u001b[0m\u001b[1;33m)\u001b[0m\u001b[1;33m\u001b[0m\u001b[1;33m\u001b[0m\u001b[0m\n\u001b[1;32m--> 747\u001b[1;33m         \u001b[0mto_send\u001b[0m \u001b[1;33m=\u001b[0m \u001b[0mself\u001b[0m\u001b[1;33m.\u001b[0m\u001b[0mserialize\u001b[0m\u001b[1;33m(\u001b[0m\u001b[0mmsg\u001b[0m\u001b[1;33m,\u001b[0m \u001b[0mident\u001b[0m\u001b[1;33m)\u001b[0m\u001b[1;33m\u001b[0m\u001b[1;33m\u001b[0m\u001b[0m\n\u001b[0m\u001b[0;32m    748\u001b[0m         \u001b[0mto_send\u001b[0m\u001b[1;33m.\u001b[0m\u001b[0mextend\u001b[0m\u001b[1;33m(\u001b[0m\u001b[0mbuffers\u001b[0m\u001b[1;33m)\u001b[0m\u001b[1;33m\u001b[0m\u001b[1;33m\u001b[0m\u001b[0m\n\u001b[0;32m    749\u001b[0m         \u001b[0mlongest\u001b[0m \u001b[1;33m=\u001b[0m \u001b[0mmax\u001b[0m\u001b[1;33m(\u001b[0m\u001b[1;33m[\u001b[0m \u001b[0mlen\u001b[0m\u001b[1;33m(\u001b[0m\u001b[0ms\u001b[0m\u001b[1;33m)\u001b[0m \u001b[1;32mfor\u001b[0m \u001b[0ms\u001b[0m \u001b[1;32min\u001b[0m \u001b[0mto_send\u001b[0m \u001b[1;33m]\u001b[0m\u001b[1;33m)\u001b[0m\u001b[1;33m\u001b[0m\u001b[1;33m\u001b[0m\u001b[0m\n",
      "\u001b[1;32m~\\anaconda3\\lib\\site-packages\\jupyter_client\\session.py\u001b[0m in \u001b[0;36mserialize\u001b[1;34m(self, msg, ident)\u001b[0m\n\u001b[0;32m    633\u001b[0m             \u001b[0mcontent\u001b[0m \u001b[1;33m=\u001b[0m \u001b[0mself\u001b[0m\u001b[1;33m.\u001b[0m\u001b[0mnone\u001b[0m\u001b[1;33m\u001b[0m\u001b[1;33m\u001b[0m\u001b[0m\n\u001b[0;32m    634\u001b[0m         \u001b[1;32melif\u001b[0m \u001b[0misinstance\u001b[0m\u001b[1;33m(\u001b[0m\u001b[0mcontent\u001b[0m\u001b[1;33m,\u001b[0m \u001b[0mdict\u001b[0m\u001b[1;33m)\u001b[0m\u001b[1;33m:\u001b[0m\u001b[1;33m\u001b[0m\u001b[1;33m\u001b[0m\u001b[0m\n\u001b[1;32m--> 635\u001b[1;33m             \u001b[0mcontent\u001b[0m \u001b[1;33m=\u001b[0m \u001b[0mself\u001b[0m\u001b[1;33m.\u001b[0m\u001b[0mpack\u001b[0m\u001b[1;33m(\u001b[0m\u001b[0mcontent\u001b[0m\u001b[1;33m)\u001b[0m\u001b[1;33m\u001b[0m\u001b[1;33m\u001b[0m\u001b[0m\n\u001b[0m\u001b[0;32m    636\u001b[0m         \u001b[1;32melif\u001b[0m \u001b[0misinstance\u001b[0m\u001b[1;33m(\u001b[0m\u001b[0mcontent\u001b[0m\u001b[1;33m,\u001b[0m \u001b[0mbytes\u001b[0m\u001b[1;33m)\u001b[0m\u001b[1;33m:\u001b[0m\u001b[1;33m\u001b[0m\u001b[1;33m\u001b[0m\u001b[0m\n\u001b[0;32m    637\u001b[0m             \u001b[1;31m# content is already packed, as in a relayed message\u001b[0m\u001b[1;33m\u001b[0m\u001b[1;33m\u001b[0m\u001b[1;33m\u001b[0m\u001b[0m\n",
      "\u001b[1;32m~\\anaconda3\\lib\\site-packages\\jupyter_client\\session.py\u001b[0m in \u001b[0;36m<lambda>\u001b[1;34m(obj)\u001b[0m\n\u001b[0;32m     86\u001b[0m \u001b[1;31m# allow unicode\u001b[0m\u001b[1;33m\u001b[0m\u001b[1;33m\u001b[0m\u001b[1;33m\u001b[0m\u001b[0m\n\u001b[0;32m     87\u001b[0m \u001b[1;31m# disallow nan, because it's not actually valid JSON\u001b[0m\u001b[1;33m\u001b[0m\u001b[1;33m\u001b[0m\u001b[1;33m\u001b[0m\u001b[0m\n\u001b[1;32m---> 88\u001b[1;33m json_packer = lambda obj: jsonapi.dumps(obj, default=date_default,\n\u001b[0m\u001b[0;32m     89\u001b[0m     \u001b[0mensure_ascii\u001b[0m\u001b[1;33m=\u001b[0m\u001b[1;32mFalse\u001b[0m\u001b[1;33m,\u001b[0m \u001b[0mallow_nan\u001b[0m\u001b[1;33m=\u001b[0m\u001b[1;32mFalse\u001b[0m\u001b[1;33m,\u001b[0m\u001b[1;33m\u001b[0m\u001b[1;33m\u001b[0m\u001b[0m\n\u001b[0;32m     90\u001b[0m )\n",
      "\u001b[1;32m~\\anaconda3\\lib\\site-packages\\zmq\\utils\\jsonapi.py\u001b[0m in \u001b[0;36mdumps\u001b[1;34m(o, **kwargs)\u001b[0m\n\u001b[0;32m     38\u001b[0m         \u001b[0mkwargs\u001b[0m\u001b[1;33m[\u001b[0m\u001b[1;34m'separators'\u001b[0m\u001b[1;33m]\u001b[0m \u001b[1;33m=\u001b[0m \u001b[1;33m(\u001b[0m\u001b[1;34m','\u001b[0m\u001b[1;33m,\u001b[0m \u001b[1;34m':'\u001b[0m\u001b[1;33m)\u001b[0m\u001b[1;33m\u001b[0m\u001b[1;33m\u001b[0m\u001b[0m\n\u001b[0;32m     39\u001b[0m \u001b[1;33m\u001b[0m\u001b[0m\n\u001b[1;32m---> 40\u001b[1;33m     \u001b[0ms\u001b[0m \u001b[1;33m=\u001b[0m \u001b[0mjsonmod\u001b[0m\u001b[1;33m.\u001b[0m\u001b[0mdumps\u001b[0m\u001b[1;33m(\u001b[0m\u001b[0mo\u001b[0m\u001b[1;33m,\u001b[0m \u001b[1;33m**\u001b[0m\u001b[0mkwargs\u001b[0m\u001b[1;33m)\u001b[0m\u001b[1;33m\u001b[0m\u001b[1;33m\u001b[0m\u001b[0m\n\u001b[0m\u001b[0;32m     41\u001b[0m \u001b[1;33m\u001b[0m\u001b[0m\n\u001b[0;32m     42\u001b[0m     \u001b[1;32mif\u001b[0m \u001b[0misinstance\u001b[0m\u001b[1;33m(\u001b[0m\u001b[0ms\u001b[0m\u001b[1;33m,\u001b[0m \u001b[0municode\u001b[0m\u001b[1;33m)\u001b[0m\u001b[1;33m:\u001b[0m\u001b[1;33m\u001b[0m\u001b[1;33m\u001b[0m\u001b[0m\n",
      "\u001b[1;32m~\\anaconda3\\lib\\json\\__init__.py\u001b[0m in \u001b[0;36mdumps\u001b[1;34m(obj, skipkeys, ensure_ascii, check_circular, allow_nan, cls, indent, separators, default, sort_keys, **kw)\u001b[0m\n\u001b[0;32m    232\u001b[0m     \u001b[1;32mif\u001b[0m \u001b[0mcls\u001b[0m \u001b[1;32mis\u001b[0m \u001b[1;32mNone\u001b[0m\u001b[1;33m:\u001b[0m\u001b[1;33m\u001b[0m\u001b[1;33m\u001b[0m\u001b[0m\n\u001b[0;32m    233\u001b[0m         \u001b[0mcls\u001b[0m \u001b[1;33m=\u001b[0m \u001b[0mJSONEncoder\u001b[0m\u001b[1;33m\u001b[0m\u001b[1;33m\u001b[0m\u001b[0m\n\u001b[1;32m--> 234\u001b[1;33m     return cls(\n\u001b[0m\u001b[0;32m    235\u001b[0m         \u001b[0mskipkeys\u001b[0m\u001b[1;33m=\u001b[0m\u001b[0mskipkeys\u001b[0m\u001b[1;33m,\u001b[0m \u001b[0mensure_ascii\u001b[0m\u001b[1;33m=\u001b[0m\u001b[0mensure_ascii\u001b[0m\u001b[1;33m,\u001b[0m\u001b[1;33m\u001b[0m\u001b[1;33m\u001b[0m\u001b[0m\n\u001b[0;32m    236\u001b[0m         \u001b[0mcheck_circular\u001b[0m\u001b[1;33m=\u001b[0m\u001b[0mcheck_circular\u001b[0m\u001b[1;33m,\u001b[0m \u001b[0mallow_nan\u001b[0m\u001b[1;33m=\u001b[0m\u001b[0mallow_nan\u001b[0m\u001b[1;33m,\u001b[0m \u001b[0mindent\u001b[0m\u001b[1;33m=\u001b[0m\u001b[0mindent\u001b[0m\u001b[1;33m,\u001b[0m\u001b[1;33m\u001b[0m\u001b[1;33m\u001b[0m\u001b[0m\n",
      "\u001b[1;32m~\\anaconda3\\lib\\json\\encoder.py\u001b[0m in \u001b[0;36mencode\u001b[1;34m(self, o)\u001b[0m\n\u001b[0;32m    197\u001b[0m         \u001b[1;31m# exceptions aren't as detailed.  The list call should be roughly\u001b[0m\u001b[1;33m\u001b[0m\u001b[1;33m\u001b[0m\u001b[1;33m\u001b[0m\u001b[0m\n\u001b[0;32m    198\u001b[0m         \u001b[1;31m# equivalent to the PySequence_Fast that ''.join() would do.\u001b[0m\u001b[1;33m\u001b[0m\u001b[1;33m\u001b[0m\u001b[1;33m\u001b[0m\u001b[0m\n\u001b[1;32m--> 199\u001b[1;33m         \u001b[0mchunks\u001b[0m \u001b[1;33m=\u001b[0m \u001b[0mself\u001b[0m\u001b[1;33m.\u001b[0m\u001b[0miterencode\u001b[0m\u001b[1;33m(\u001b[0m\u001b[0mo\u001b[0m\u001b[1;33m,\u001b[0m \u001b[0m_one_shot\u001b[0m\u001b[1;33m=\u001b[0m\u001b[1;32mTrue\u001b[0m\u001b[1;33m)\u001b[0m\u001b[1;33m\u001b[0m\u001b[1;33m\u001b[0m\u001b[0m\n\u001b[0m\u001b[0;32m    200\u001b[0m         \u001b[1;32mif\u001b[0m \u001b[1;32mnot\u001b[0m \u001b[0misinstance\u001b[0m\u001b[1;33m(\u001b[0m\u001b[0mchunks\u001b[0m\u001b[1;33m,\u001b[0m \u001b[1;33m(\u001b[0m\u001b[0mlist\u001b[0m\u001b[1;33m,\u001b[0m \u001b[0mtuple\u001b[0m\u001b[1;33m)\u001b[0m\u001b[1;33m)\u001b[0m\u001b[1;33m:\u001b[0m\u001b[1;33m\u001b[0m\u001b[1;33m\u001b[0m\u001b[0m\n\u001b[0;32m    201\u001b[0m             \u001b[0mchunks\u001b[0m \u001b[1;33m=\u001b[0m \u001b[0mlist\u001b[0m\u001b[1;33m(\u001b[0m\u001b[0mchunks\u001b[0m\u001b[1;33m)\u001b[0m\u001b[1;33m\u001b[0m\u001b[1;33m\u001b[0m\u001b[0m\n",
      "\u001b[1;32m~\\anaconda3\\lib\\json\\encoder.py\u001b[0m in \u001b[0;36miterencode\u001b[1;34m(self, o, _one_shot)\u001b[0m\n\u001b[0;32m    255\u001b[0m                 \u001b[0mself\u001b[0m\u001b[1;33m.\u001b[0m\u001b[0mkey_separator\u001b[0m\u001b[1;33m,\u001b[0m \u001b[0mself\u001b[0m\u001b[1;33m.\u001b[0m\u001b[0mitem_separator\u001b[0m\u001b[1;33m,\u001b[0m \u001b[0mself\u001b[0m\u001b[1;33m.\u001b[0m\u001b[0msort_keys\u001b[0m\u001b[1;33m,\u001b[0m\u001b[1;33m\u001b[0m\u001b[1;33m\u001b[0m\u001b[0m\n\u001b[0;32m    256\u001b[0m                 self.skipkeys, _one_shot)\n\u001b[1;32m--> 257\u001b[1;33m         \u001b[1;32mreturn\u001b[0m \u001b[0m_iterencode\u001b[0m\u001b[1;33m(\u001b[0m\u001b[0mo\u001b[0m\u001b[1;33m,\u001b[0m \u001b[1;36m0\u001b[0m\u001b[1;33m)\u001b[0m\u001b[1;33m\u001b[0m\u001b[1;33m\u001b[0m\u001b[0m\n\u001b[0m\u001b[0;32m    258\u001b[0m \u001b[1;33m\u001b[0m\u001b[0m\n\u001b[0;32m    259\u001b[0m def _make_iterencode(markers, _default, _encoder, _indent, _floatstr,\n",
      "\u001b[1;31mMemoryError\u001b[0m: "
     ]
    }
   ],
   "source": [
    "data.to_csv(index=False)"
   ]
  },
  {
   "cell_type": "code",
   "execution_count": 56,
   "metadata": {},
   "outputs": [
    {
     "data": {
      "text/plain": [
       "(435734, 61)"
      ]
     },
     "execution_count": 56,
     "metadata": {},
     "output_type": "execute_result"
    }
   ],
   "source": [
    "data.shape"
   ]
  },
  {
   "cell_type": "code",
   "execution_count": 58,
   "metadata": {},
   "outputs": [],
   "source": [
    "from sklearn.utils import shuffle"
   ]
  },
  {
   "cell_type": "code",
   "execution_count": 60,
   "metadata": {},
   "outputs": [],
   "source": [
    " data = shuffle(data)"
   ]
  },
  {
   "cell_type": "code",
   "execution_count": 63,
   "metadata": {},
   "outputs": [
    {
     "name": "stderr",
     "output_type": "stream",
     "text": [
      "C:\\Users\\NikhilGaur\\anaconda3\\lib\\site-packages\\pandas\\core\\frame.py:3990: SettingWithCopyWarning: \n",
      "A value is trying to be set on a copy of a slice from a DataFrame\n",
      "\n",
      "See the caveats in the documentation: https://pandas.pydata.org/pandas-docs/stable/user_guide/indexing.html#returning-a-view-versus-a-copy\n",
      "  return super().drop(\n"
     ]
    }
   ],
   "source": [
    "y = data['price']\n",
    "data.drop(['price'], axis=1, inplace=True)"
   ]
  },
  {
   "cell_type": "code",
   "execution_count": 64,
   "metadata": {},
   "outputs": [
    {
     "ename": "AttributeError",
     "evalue": "'DataFrame' object has no attribute 'price'",
     "output_type": "error",
     "traceback": [
      "\u001b[1;31m---------------------------------------------------------------------------\u001b[0m",
      "\u001b[1;31mAttributeError\u001b[0m                            Traceback (most recent call last)",
      "\u001b[1;32m<ipython-input-64-478b2cce04f5>\u001b[0m in \u001b[0;36m<module>\u001b[1;34m\u001b[0m\n\u001b[1;32m----> 1\u001b[1;33m \u001b[0mdata\u001b[0m\u001b[1;33m.\u001b[0m\u001b[0mprice\u001b[0m\u001b[1;33m\u001b[0m\u001b[1;33m\u001b[0m\u001b[0m\n\u001b[0m",
      "\u001b[1;32m~\\anaconda3\\lib\\site-packages\\pandas\\core\\generic.py\u001b[0m in \u001b[0;36m__getattr__\u001b[1;34m(self, name)\u001b[0m\n\u001b[0;32m   5272\u001b[0m             \u001b[1;32mif\u001b[0m \u001b[0mself\u001b[0m\u001b[1;33m.\u001b[0m\u001b[0m_info_axis\u001b[0m\u001b[1;33m.\u001b[0m\u001b[0m_can_hold_identifiers_and_holds_name\u001b[0m\u001b[1;33m(\u001b[0m\u001b[0mname\u001b[0m\u001b[1;33m)\u001b[0m\u001b[1;33m:\u001b[0m\u001b[1;33m\u001b[0m\u001b[1;33m\u001b[0m\u001b[0m\n\u001b[0;32m   5273\u001b[0m                 \u001b[1;32mreturn\u001b[0m \u001b[0mself\u001b[0m\u001b[1;33m[\u001b[0m\u001b[0mname\u001b[0m\u001b[1;33m]\u001b[0m\u001b[1;33m\u001b[0m\u001b[1;33m\u001b[0m\u001b[0m\n\u001b[1;32m-> 5274\u001b[1;33m             \u001b[1;32mreturn\u001b[0m \u001b[0mobject\u001b[0m\u001b[1;33m.\u001b[0m\u001b[0m__getattribute__\u001b[0m\u001b[1;33m(\u001b[0m\u001b[0mself\u001b[0m\u001b[1;33m,\u001b[0m \u001b[0mname\u001b[0m\u001b[1;33m)\u001b[0m\u001b[1;33m\u001b[0m\u001b[1;33m\u001b[0m\u001b[0m\n\u001b[0m\u001b[0;32m   5275\u001b[0m \u001b[1;33m\u001b[0m\u001b[0m\n\u001b[0;32m   5276\u001b[0m     \u001b[1;32mdef\u001b[0m \u001b[0m__setattr__\u001b[0m\u001b[1;33m(\u001b[0m\u001b[0mself\u001b[0m\u001b[1;33m,\u001b[0m \u001b[0mname\u001b[0m\u001b[1;33m:\u001b[0m \u001b[0mstr\u001b[0m\u001b[1;33m,\u001b[0m \u001b[0mvalue\u001b[0m\u001b[1;33m)\u001b[0m \u001b[1;33m->\u001b[0m \u001b[1;32mNone\u001b[0m\u001b[1;33m:\u001b[0m\u001b[1;33m\u001b[0m\u001b[1;33m\u001b[0m\u001b[0m\n",
      "\u001b[1;31mAttributeError\u001b[0m: 'DataFrame' object has no attribute 'price'"
     ]
    }
   ],
   "source": [
    "data.price"
   ]
  },
  {
   "cell_type": "code",
   "execution_count": 70,
   "metadata": {},
   "outputs": [],
   "source": [
    "X_train, X_tune, y_train, y_tune = train_test_split(data, y, test_size=0.30, random_state=42)"
   ]
  },
  {
   "cell_type": "code",
   "execution_count": 71,
   "metadata": {},
   "outputs": [],
   "source": [
    "X_train.to_csv('X_train.csv', index=False)\n",
    "y_train.to_csv('y_train.csv', index=False)\n",
    "X_tune.to_csv('X_tune.csv', index=False)\n",
    "y_tune.to_csv('y_tune.csv', index=False)"
   ]
  },
  {
   "cell_type": "code",
   "execution_count": 72,
   "metadata": {},
   "outputs": [],
   "source": [
    "X_tune, y_tune, X_test, y_test = train_test_split(X_tune, y_tune, test_size=0.33, random_state=42)"
   ]
  },
  {
   "cell_type": "code",
   "execution_count": 73,
   "metadata": {},
   "outputs": [],
   "source": [
    "X_tune.to_csv('X_tune.csv', index=False)\n",
    "y_tune.to_csv('y_tune.csv', index=False)\n",
    "X_test.to_csv('X_test.csv', index=False)\n",
    "y_test.to_csv('y_test.csv', index=False)"
   ]
  },
  {
   "cell_type": "code",
   "execution_count": 75,
   "metadata": {},
   "outputs": [],
   "source": [
    "data.to_csv('vehicles.csv', index=False)"
   ]
  },
  {
   "cell_type": "code",
   "execution_count": 84,
   "metadata": {},
   "outputs": [
    {
     "data": {
      "text/plain": [
       "pandas.core.series.Series"
      ]
     },
     "execution_count": 84,
     "metadata": {},
     "output_type": "execute_result"
    }
   ],
   "source": [
    "type(y)"
   ]
  },
  {
   "cell_type": "code",
   "execution_count": 85,
   "metadata": {},
   "outputs": [],
   "source": [
    "data['price'] = list(y)"
   ]
  },
  {
   "cell_type": "code",
   "execution_count": 86,
   "metadata": {},
   "outputs": [
    {
     "data": {
      "text/plain": [
       "46831     12888\n",
       "178047    19997\n",
       "128034    27900\n",
       "366448     6800\n",
       "82435      7750\n",
       "          ...  \n",
       "146508     7996\n",
       "392951    22900\n",
       "95507      7900\n",
       "406369    29000\n",
       "254071    13970\n",
       "Name: price, Length: 435734, dtype: int64"
      ]
     },
     "execution_count": 86,
     "metadata": {},
     "output_type": "execute_result"
    }
   ],
   "source": [
    "data.price"
   ]
  },
  {
   "cell_type": "code",
   "execution_count": 87,
   "metadata": {},
   "outputs": [],
   "source": [
    "corr = data.corr()"
   ]
  },
  {
   "cell_type": "code",
   "execution_count": 80,
   "metadata": {},
   "outputs": [
    {
     "data": {
      "text/html": [
       "<div>\n",
       "<style scoped>\n",
       "    .dataframe tbody tr th:only-of-type {\n",
       "        vertical-align: middle;\n",
       "    }\n",
       "\n",
       "    .dataframe tbody tr th {\n",
       "        vertical-align: top;\n",
       "    }\n",
       "\n",
       "    .dataframe thead th {\n",
       "        text-align: right;\n",
       "    }\n",
       "</style>\n",
       "<table border=\"1\" class=\"dataframe\">\n",
       "  <thead>\n",
       "    <tr style=\"text-align: right;\">\n",
       "      <th></th>\n",
       "      <th>id</th>\n",
       "      <th>year</th>\n",
       "      <th>odometer</th>\n",
       "      <th>county</th>\n",
       "      <th>lat</th>\n",
       "      <th>long</th>\n",
       "      <th>age</th>\n",
       "      <th>manufacturer_med_price</th>\n",
       "      <th>model_med_price</th>\n",
       "      <th>condition_med_price</th>\n",
       "      <th>...</th>\n",
       "      <th>model_count_price</th>\n",
       "      <th>condition_count_price</th>\n",
       "      <th>paint_color_count_price</th>\n",
       "      <th>state_count_price</th>\n",
       "      <th>title_status_count_price</th>\n",
       "      <th>fuel_count_price</th>\n",
       "      <th>transmission_count_price</th>\n",
       "      <th>size_count_price</th>\n",
       "      <th>drive_count_price</th>\n",
       "      <th>type_count_price</th>\n",
       "    </tr>\n",
       "  </thead>\n",
       "  <tbody>\n",
       "    <tr>\n",
       "      <th>id</th>\n",
       "      <td>1.000000</td>\n",
       "      <td>-0.021674</td>\n",
       "      <td>0.007029</td>\n",
       "      <td>NaN</td>\n",
       "      <td>-0.050956</td>\n",
       "      <td>-0.108738</td>\n",
       "      <td>0.021674</td>\n",
       "      <td>-0.028976</td>\n",
       "      <td>-0.045883</td>\n",
       "      <td>-0.000916</td>\n",
       "      <td>...</td>\n",
       "      <td>-0.004787</td>\n",
       "      <td>-0.013999</td>\n",
       "      <td>-0.012279</td>\n",
       "      <td>0.093334</td>\n",
       "      <td>-0.006575</td>\n",
       "      <td>0.018071</td>\n",
       "      <td>0.023289</td>\n",
       "      <td>-0.026370</td>\n",
       "      <td>-0.023858</td>\n",
       "      <td>0.028650</td>\n",
       "    </tr>\n",
       "    <tr>\n",
       "      <th>year</th>\n",
       "      <td>-0.021674</td>\n",
       "      <td>1.000000</td>\n",
       "      <td>-0.244137</td>\n",
       "      <td>NaN</td>\n",
       "      <td>-0.003259</td>\n",
       "      <td>-0.024716</td>\n",
       "      <td>-1.000000</td>\n",
       "      <td>0.024846</td>\n",
       "      <td>0.127707</td>\n",
       "      <td>0.212285</td>\n",
       "      <td>...</td>\n",
       "      <td>0.071619</td>\n",
       "      <td>0.042401</td>\n",
       "      <td>0.152468</td>\n",
       "      <td>-0.005670</td>\n",
       "      <td>-0.013774</td>\n",
       "      <td>-0.037788</td>\n",
       "      <td>0.161643</td>\n",
       "      <td>-0.050913</td>\n",
       "      <td>0.225693</td>\n",
       "      <td>0.111682</td>\n",
       "    </tr>\n",
       "    <tr>\n",
       "      <th>odometer</th>\n",
       "      <td>0.007029</td>\n",
       "      <td>-0.244137</td>\n",
       "      <td>1.000000</td>\n",
       "      <td>NaN</td>\n",
       "      <td>0.003892</td>\n",
       "      <td>0.037358</td>\n",
       "      <td>0.244137</td>\n",
       "      <td>0.001455</td>\n",
       "      <td>-0.102276</td>\n",
       "      <td>-0.120629</td>\n",
       "      <td>...</td>\n",
       "      <td>0.020220</td>\n",
       "      <td>0.010487</td>\n",
       "      <td>-0.015510</td>\n",
       "      <td>-0.016503</td>\n",
       "      <td>0.032322</td>\n",
       "      <td>-0.058885</td>\n",
       "      <td>0.028702</td>\n",
       "      <td>0.067120</td>\n",
       "      <td>0.012785</td>\n",
       "      <td>0.006574</td>\n",
       "    </tr>\n",
       "    <tr>\n",
       "      <th>county</th>\n",
       "      <td>NaN</td>\n",
       "      <td>NaN</td>\n",
       "      <td>NaN</td>\n",
       "      <td>NaN</td>\n",
       "      <td>NaN</td>\n",
       "      <td>NaN</td>\n",
       "      <td>NaN</td>\n",
       "      <td>NaN</td>\n",
       "      <td>NaN</td>\n",
       "      <td>NaN</td>\n",
       "      <td>...</td>\n",
       "      <td>NaN</td>\n",
       "      <td>NaN</td>\n",
       "      <td>NaN</td>\n",
       "      <td>NaN</td>\n",
       "      <td>NaN</td>\n",
       "      <td>NaN</td>\n",
       "      <td>NaN</td>\n",
       "      <td>NaN</td>\n",
       "      <td>NaN</td>\n",
       "      <td>NaN</td>\n",
       "    </tr>\n",
       "    <tr>\n",
       "      <th>lat</th>\n",
       "      <td>-0.050956</td>\n",
       "      <td>-0.003259</td>\n",
       "      <td>0.003892</td>\n",
       "      <td>NaN</td>\n",
       "      <td>1.000000</td>\n",
       "      <td>-0.166066</td>\n",
       "      <td>0.003259</td>\n",
       "      <td>0.050787</td>\n",
       "      <td>0.021849</td>\n",
       "      <td>-0.035463</td>\n",
       "      <td>...</td>\n",
       "      <td>0.013199</td>\n",
       "      <td>0.020386</td>\n",
       "      <td>-0.035002</td>\n",
       "      <td>-0.335975</td>\n",
       "      <td>0.005394</td>\n",
       "      <td>0.004159</td>\n",
       "      <td>0.027767</td>\n",
       "      <td>0.049308</td>\n",
       "      <td>0.245499</td>\n",
       "      <td>0.035073</td>\n",
       "    </tr>\n",
       "  </tbody>\n",
       "</table>\n",
       "<p>5 rows × 40 columns</p>\n",
       "</div>"
      ],
      "text/plain": [
       "                id      year  odometer  county       lat      long       age  \\\n",
       "id        1.000000 -0.021674  0.007029     NaN -0.050956 -0.108738  0.021674   \n",
       "year     -0.021674  1.000000 -0.244137     NaN -0.003259 -0.024716 -1.000000   \n",
       "odometer  0.007029 -0.244137  1.000000     NaN  0.003892  0.037358  0.244137   \n",
       "county         NaN       NaN       NaN     NaN       NaN       NaN       NaN   \n",
       "lat      -0.050956 -0.003259  0.003892     NaN  1.000000 -0.166066  0.003259   \n",
       "\n",
       "          manufacturer_med_price  model_med_price  condition_med_price  ...  \\\n",
       "id                     -0.028976        -0.045883            -0.000916  ...   \n",
       "year                    0.024846         0.127707             0.212285  ...   \n",
       "odometer                0.001455        -0.102276            -0.120629  ...   \n",
       "county                       NaN              NaN                  NaN  ...   \n",
       "lat                     0.050787         0.021849            -0.035463  ...   \n",
       "\n",
       "          model_count_price  condition_count_price  paint_color_count_price  \\\n",
       "id                -0.004787              -0.013999                -0.012279   \n",
       "year               0.071619               0.042401                 0.152468   \n",
       "odometer           0.020220               0.010487                -0.015510   \n",
       "county                  NaN                    NaN                      NaN   \n",
       "lat                0.013199               0.020386                -0.035002   \n",
       "\n",
       "          state_count_price  title_status_count_price  fuel_count_price  \\\n",
       "id                 0.093334                 -0.006575          0.018071   \n",
       "year              -0.005670                 -0.013774         -0.037788   \n",
       "odometer          -0.016503                  0.032322         -0.058885   \n",
       "county                  NaN                       NaN               NaN   \n",
       "lat               -0.335975                  0.005394          0.004159   \n",
       "\n",
       "          transmission_count_price  size_count_price  drive_count_price  \\\n",
       "id                        0.023289         -0.026370          -0.023858   \n",
       "year                      0.161643         -0.050913           0.225693   \n",
       "odometer                  0.028702          0.067120           0.012785   \n",
       "county                         NaN               NaN                NaN   \n",
       "lat                       0.027767          0.049308           0.245499   \n",
       "\n",
       "          type_count_price  \n",
       "id                0.028650  \n",
       "year              0.111682  \n",
       "odometer          0.006574  \n",
       "county                 NaN  \n",
       "lat               0.035073  \n",
       "\n",
       "[5 rows x 40 columns]"
      ]
     },
     "execution_count": 80,
     "metadata": {},
     "output_type": "execute_result"
    }
   ],
   "source": [
    "corr.head()"
   ]
  },
  {
   "cell_type": "code",
   "execution_count": 88,
   "metadata": {},
   "outputs": [
    {
     "data": {
      "text/plain": [
       "id                          -0.044729\n",
       "year                         0.210926\n",
       "odometer                    -0.200183\n",
       "county                            NaN\n",
       "lat                          0.051121\n",
       "long                        -0.100622\n",
       "age                         -0.210926\n",
       "manufacturer_med_price       0.283652\n",
       "model_med_price              0.709068\n",
       "condition_med_price          0.170668\n",
       "paint_color_med_price        0.136475\n",
       "state_med_price              0.170450\n",
       "title_status_med_price       0.070325\n",
       "fuel_med_price               0.245865\n",
       "transmission_med_price       0.092997\n",
       "size_med_price               0.188251\n",
       "drive_med_price              0.296640\n",
       "type_med_price               0.317623\n",
       "manufacturer_median_price    0.283652\n",
       "model_median_price           0.709068\n",
       "condition_median_price       0.170668\n",
       "paint_color_median_price     0.136475\n",
       "state_median_price           0.170450\n",
       "title_status_median_price    0.070325\n",
       "fuel_median_price            0.245865\n",
       "transmission_median_price    0.092997\n",
       "size_median_price            0.188251\n",
       "drive_median_price           0.296640\n",
       "type_median_price            0.317623\n",
       "manufacturer_count_price     0.081278\n",
       "model_count_price           -0.022371\n",
       "condition_count_price       -0.003463\n",
       "paint_color_count_price      0.109440\n",
       "state_count_price           -0.005387\n",
       "title_status_count_price     0.030607\n",
       "fuel_count_price            -0.210204\n",
       "transmission_count_price    -0.043732\n",
       "size_count_price             0.179086\n",
       "drive_count_price            0.125784\n",
       "type_count_price            -0.134174\n",
       "price                        1.000000\n",
       "Name: price, dtype: float64"
      ]
     },
     "execution_count": 88,
     "metadata": {},
     "output_type": "execute_result"
    }
   ],
   "source": [
    "corr.price"
   ]
  },
  {
   "cell_type": "code",
   "execution_count": 92,
   "metadata": {},
   "outputs": [],
   "source": [
    "price_corr = list(abs(corr.price))"
   ]
  },
  {
   "cell_type": "code",
   "execution_count": 93,
   "metadata": {},
   "outputs": [
    {
     "data": {
      "text/plain": [
       "[0.04472909374030203,\n",
       " 0.2109258672252718,\n",
       " 0.20018316620300292,\n",
       " nan,\n",
       " 0.05112087367807357,\n",
       " 0.10062150312623015,\n",
       " 0.21092586722527285,\n",
       " 0.2836521257561203,\n",
       " 0.709067696745922,\n",
       " 0.17066780759793687,\n",
       " 0.1364749324795546,\n",
       " 0.17044991877962387,\n",
       " 0.07032502522342586,\n",
       " 0.2458649268114987,\n",
       " 0.09299741388228014,\n",
       " 0.18825061915470467,\n",
       " 0.29663957466245244,\n",
       " 0.317622990962215,\n",
       " 0.2836521257561203,\n",
       " 0.709067696745922,\n",
       " 0.17066780759793687,\n",
       " 0.1364749324795546,\n",
       " 0.17044991877962387,\n",
       " 0.07032502522342586,\n",
       " 0.2458649268114987,\n",
       " 0.09299741388228014,\n",
       " 0.18825061915470467,\n",
       " 0.29663957466245244,\n",
       " 0.317622990962215,\n",
       " 0.08127803989246402,\n",
       " 0.02237072885062251,\n",
       " 0.0034629756326880635,\n",
       " 0.10943986748092148,\n",
       " 0.005387028337462605,\n",
       " 0.030606911753087114,\n",
       " 0.21020431447093935,\n",
       " 0.0437316755581733,\n",
       " 0.17908611401570626,\n",
       " 0.1257838511523942,\n",
       " 0.13417381993078495,\n",
       " 1.0]"
      ]
     },
     "execution_count": 93,
     "metadata": {},
     "output_type": "execute_result"
    }
   ],
   "source": [
    "price_corr"
   ]
  },
  {
   "cell_type": "code",
   "execution_count": 103,
   "metadata": {},
   "outputs": [],
   "source": [
    " max_indices = np.argsort(price_corr)[-7:]"
   ]
  },
  {
   "cell_type": "code",
   "execution_count": 104,
   "metadata": {},
   "outputs": [
    {
     "data": {
      "text/plain": [
       "array([16, 28, 17, 19,  8, 40,  3], dtype=int64)"
      ]
     },
     "execution_count": 104,
     "metadata": {},
     "output_type": "execute_result"
    }
   ],
   "source": [
    "max_indices"
   ]
  },
  {
   "cell_type": "code",
   "execution_count": 105,
   "metadata": {},
   "outputs": [
    {
     "data": {
      "text/plain": [
       "0.709067696745922"
      ]
     },
     "execution_count": 105,
     "metadata": {},
     "output_type": "execute_result"
    }
   ],
   "source": [
    "price_corr[8]"
   ]
  },
  {
   "cell_type": "code",
   "execution_count": 102,
   "metadata": {},
   "outputs": [
    {
     "data": {
      "text/plain": [
       "nan"
      ]
     },
     "execution_count": 102,
     "metadata": {},
     "output_type": "execute_result"
    }
   ],
   "source": [
    "price_corr[3]"
   ]
  },
  {
   "cell_type": "code",
   "execution_count": 110,
   "metadata": {},
   "outputs": [
    {
     "data": {
      "text/plain": [
       "pandas.core.frame.DataFrame"
      ]
     },
     "execution_count": 110,
     "metadata": {},
     "output_type": "execute_result"
    }
   ],
   "source": [
    "type(corr)"
   ]
  },
  {
   "cell_type": "code",
   "execution_count": 111,
   "metadata": {},
   "outputs": [
    {
     "data": {
      "text/plain": [
       "Index(['id', 'year', 'odometer', 'county', 'lat', 'long', 'age',\n",
       "       'manufacturer_med_price', 'model_med_price', 'condition_med_price',\n",
       "       'paint_color_med_price', 'state_med_price', 'title_status_med_price',\n",
       "       'fuel_med_price', 'transmission_med_price', 'size_med_price',\n",
       "       'drive_med_price', 'type_med_price', 'manufacturer_median_price',\n",
       "       'model_median_price', 'condition_median_price',\n",
       "       'paint_color_median_price', 'state_median_price',\n",
       "       'title_status_median_price', 'fuel_median_price',\n",
       "       'transmission_median_price', 'size_median_price', 'drive_median_price',\n",
       "       'type_median_price', 'manufacturer_count_price', 'model_count_price',\n",
       "       'condition_count_price', 'paint_color_count_price', 'state_count_price',\n",
       "       'title_status_count_price', 'fuel_count_price',\n",
       "       'transmission_count_price', 'size_count_price', 'drive_count_price',\n",
       "       'type_count_price', 'price'],\n",
       "      dtype='object')"
      ]
     },
     "execution_count": 111,
     "metadata": {},
     "output_type": "execute_result"
    }
   ],
   "source": [
    "corr.columns"
   ]
  },
  {
   "cell_type": "code",
   "execution_count": 115,
   "metadata": {},
   "outputs": [
    {
     "name": "stdout",
     "output_type": "stream",
     "text": [
      "Variable correlation value with best correlation:   0.2966\n",
      "Variable names with best correlation:   drive_med_price\n",
      "\n",
      "Variable correlation value with best correlation:   0.3176\n",
      "Variable names with best correlation:   type_median_price\n",
      "\n",
      "Variable correlation value with best correlation:   0.3176\n",
      "Variable names with best correlation:   type_med_price\n",
      "\n",
      "Variable correlation value with best correlation:   0.7091\n",
      "Variable names with best correlation:   model_median_price\n",
      "\n",
      "Variable correlation value with best correlation:   0.7091\n",
      "Variable names with best correlation:   model_med_price\n",
      "\n",
      "Variable correlation value with best correlation:   1.0\n",
      "Variable names with best correlation:   price\n",
      "\n",
      "Variable correlation value with best correlation:   nan\n",
      "Variable names with best correlation:   county\n",
      "\n"
     ]
    }
   ],
   "source": [
    "for index in max_indices:\n",
    "    print('Variable correlation value with best correlation:   ' + str(round(price_corr[index], 4)))    \n",
    "    print('Variable names with best correlation:   ' + str(corr.columns[index]))\n",
    "    print()"
   ]
  },
  {
   "cell_type": "code",
   "execution_count": 116,
   "metadata": {},
   "outputs": [],
   "source": [
    "remove_columns = ['manufacturer_med_price', 'model_med_price', 'condition_med_price', 'paint_color_med_price', 'state_med_price', 'title_status_med_price', 'fuel_med_price', 'transmission_med_price', 'size_med_price', 'drive_med_price', 'type_med_price']"
   ]
  },
  {
   "cell_type": "code",
   "execution_count": 117,
   "metadata": {},
   "outputs": [],
   "source": [
    "data.drop(remove_columns, axis=1, inplace=True)"
   ]
  },
  {
   "cell_type": "code",
   "execution_count": 118,
   "metadata": {},
   "outputs": [
    {
     "data": {
      "text/plain": [
       "<matplotlib.axes._subplots.AxesSubplot at 0x21680b02a30>"
      ]
     },
     "execution_count": 118,
     "metadata": {},
     "output_type": "execute_result"
    },
    {
     "data": {
      "image/png": "[encoded data removed]",
      "text/plain": [
       "<Figure size 432x288 with 2 Axes>"
      ]
     },
     "metadata": {
      "needs_background": "light"
     },
     "output_type": "display_data"
    }
   ],
   "source": [
    "sns.heatmap(corr, \n",
    "        xticklabels=corr.columns,\n",
    "        yticklabels=corr.columns)"
   ]
  },
  {
   "cell_type": "code",
   "execution_count": 120,
   "metadata": {},
   "outputs": [
    {
     "name": "stdout",
     "output_type": "stream",
     "text": [
      "Variable correlation value with best correlation:   0.2459\n",
      "Variable names with best correlation:   fuel_median_price\n",
      "\n",
      "Variable correlation value with best correlation:   0.2837\n",
      "Variable names with best correlation:   manufacturer_median_price\n",
      "\n",
      "Variable correlation value with best correlation:   0.2966\n",
      "Variable names with best correlation:   drive_median_price\n",
      "\n",
      "Variable correlation value with best correlation:   0.3176\n",
      "Variable names with best correlation:   type_median_price\n",
      "\n",
      "Variable correlation value with best correlation:   0.7091\n",
      "Variable names with best correlation:   model_median_price\n",
      "\n",
      "Variable correlation value with best correlation:   1.0\n",
      "Variable names with best correlation:   price\n",
      "\n",
      "Variable correlation value with best correlation:   nan\n",
      "Variable names with best correlation:   county\n",
      "\n"
     ]
    }
   ],
   "source": [
    "corr = data.corr()\n",
    "price_corr = list(abs(corr.price))\n",
    "max_indices = np.argsort(price_corr)[-7:]\n",
    "for index in max_indices:\n",
    "    print('Variable correlation value with best correlation:   ' + str(round(price_corr[index], 4)))    \n",
    "    print('Variable names with best correlation:   ' + str(corr.columns[index]))\n",
    "    print()"
   ]
  },
  {
   "cell_type": "code",
   "execution_count": null,
   "metadata": {},
   "outputs": [],
   "source": [
    "# The model, type, drive, manufacturer, and fuel have the best correlations with the overall price of a car,\n",
    "# I would be very wary of model price, the correlation factor is WAAAY too high"
   ]
  },
  {
   "cell_type": "code",
   "execution_count": null,
   "metadata": {},
   "outputs": [],
   "source": [
    "from sklearn.model_selection import train_test_split"
   ]
  },
  {
   "cell_type": "code",
   "execution_count": null,
   "metadata": {},
   "outputs": [],
   "source": [
    "import datetime"
   ]
  },
  {
   "cell_type": "code",
   "execution_count": null,
   "metadata": {},
   "outputs": [],
   "source": [
    "data.columns"
   ]
  },
  {
   "cell_type": "code",
   "execution_count": null,
   "metadata": {},
   "outputs": [],
   "source": [
    "data.loc[0,:]"
   ]
  },
  {
   "cell_type": "code",
   "execution_count": null,
   "metadata": {},
   "outputs": [],
   "source": [
    "data.loc[0,'size']"
   ]
  },
  {
   "cell_type": "code",
   "execution_count": null,
   "metadata": {},
   "outputs": [],
   "source": [
    "data.loc[0,'drive']"
   ]
  },
  {
   "cell_type": "code",
   "execution_count": null,
   "metadata": {},
   "outputs": [],
   "source": [
    "# check code to see if it works"
   ]
  },
  {
   "cell_type": "code",
   "execution_count": null,
   "metadata": {},
   "outputs": [],
   "source": [
    "data.loc[0,'manufacturer']"
   ]
  },
  {
   "cell_type": "code",
   "execution_count": null,
   "metadata": {},
   "outputs": [],
   "source": [
    "np.median(data.groupby('manufacturer').get_group('jeep')['price'])"
   ]
  },
  {
   "cell_type": "code",
   "execution_count": 66,
   "metadata": {},
   "outputs": [
    {
     "data": {
      "text/plain": [
       "12995.0"
      ]
     },
     "execution_count": 66,
     "metadata": {},
     "output_type": "execute_result"
    }
   ],
   "source": [
    "data.loc[0,'manufacturer_med_price']"
   ]
  },
  {
   "cell_type": "code",
   "execution_count": 67,
   "metadata": {},
   "outputs": [
    {
     "data": {
      "text/plain": [
       "nan"
      ]
     },
     "execution_count": 67,
     "metadata": {},
     "output_type": "execute_result"
    }
   ],
   "source": [
    "data.loc[0,'drive']"
   ]
  },
  {
   "cell_type": "code",
   "execution_count": 68,
   "metadata": {},
   "outputs": [
    {
     "data": {
      "text/plain": [
       "{}"
      ]
     },
     "execution_count": 68,
     "metadata": {},
     "output_type": "execute_result"
    }
   ],
   "source": [
    "man_median_price"
   ]
  },
  {
   "cell_type": "code",
   "execution_count": 69,
   "metadata": {},
   "outputs": [
    {
     "ename": "NameError",
     "evalue": "name 'row' is not defined",
     "output_type": "error",
     "traceback": [
      "\u001b[1;31m---------------------------------------------------------------------------\u001b[0m",
      "\u001b[1;31mNameError\u001b[0m                                 Traceback (most recent call last)",
      "\u001b[1;32m<ipython-input-69-583f45671c1f>\u001b[0m in \u001b[0;36m<module>\u001b[1;34m\u001b[0m\n\u001b[1;32m----> 1\u001b[1;33m \u001b[0mrow\u001b[0m\u001b[1;33m[\u001b[0m\u001b[1;34m'manufacturer'\u001b[0m\u001b[1;33m]\u001b[0m\u001b[1;33m\u001b[0m\u001b[1;33m\u001b[0m\u001b[0m\n\u001b[0m",
      "\u001b[1;31mNameError\u001b[0m: name 'row' is not defined"
     ]
    }
   ],
   "source": [
    "row['manufacturer']"
   ]
  },
  {
   "cell_type": "code",
   "execution_count": null,
   "metadata": {},
   "outputs": [],
   "source": [
    "manufacturers = list(data['manufacturer'])"
   ]
  },
  {
   "cell_type": "code",
   "execution_count": null,
   "metadata": {},
   "outputs": [],
   "source": [
    "def add_new_columns(l, values):\n",
    "    \n",
    "    error = 0\n",
    "    z = list()\n",
    "    for i in l:\n",
    "        try:\n",
    "            z.append(values[i]) \n",
    "        except:\n",
    "            error += 1\n",
    "            z.append(None)\n",
    "            \n",
    "    print('Num Missing: ' + str(error))\n",
    "    return z"
   ]
  },
  {
   "cell_type": "code",
   "execution_count": null,
   "metadata": {},
   "outputs": [],
   "source": [
    "data['man_med_price'] = add_new_columns(manufacturers, man_median_price)"
   ]
  },
  {
   "cell_type": "code",
   "execution_count": null,
   "metadata": {},
   "outputs": [],
   "source": [
    "'''\n",
    "err_man = 0\n",
    "z = list()\n",
    "index = 0\n",
    "for i in manufacturers:\n",
    "    if index % 100 == 0 and index > 0:\n",
    "        print('Row: ' + str(index))\n",
    "    try:\n",
    "        z.append(man_median_price[i]) \n",
    "    except:\n",
    "        err_man += 1\n",
    "        z.append(None)\n",
    "    index += 1\n",
    "print('Num Missing Manufacturers: ' + str(err_man))\n",
    "'''    "
   ]
  },
  {
   "cell_type": "code",
   "execution_count": null,
   "metadata": {},
   "outputs": [],
   "source": [
    "data['man_med_price'] = z"
   ]
  },
  {
   "cell_type": "code",
   "execution_count": null,
   "metadata": {},
   "outputs": [],
   "source": [
    "data.man_med_price"
   ]
  },
  {
   "cell_type": "code",
   "execution_count": null,
   "metadata": {},
   "outputs": [],
   "source": [
    "data.corr()"
   ]
  },
  {
   "cell_type": "code",
   "execution_count": null,
   "metadata": {},
   "outputs": [],
   "source": [
    "data.model"
   ]
  },
  {
   "cell_type": "code",
   "execution_count": null,
   "metadata": {},
   "outputs": [],
   "source": [
    "err_man = 0\n",
    "z = list()\n",
    "for index, row in data.iterrows():\n",
    "    if index % 100 == 0 and index > 0:\n",
    "        print('Row: ' + str(index))\n",
    "    man = row['manufacturer']\n",
    "    try:\n",
    "        z.append(man_median_price[man]) \n",
    "    except:\n",
    "        err_man += 1\n",
    "print('Num Missing Manufacturers: ' + str(err_man))"
   ]
  },
  {
   "cell_type": "code",
   "execution_count": null,
   "metadata": {},
   "outputs": [],
   "source": []
  }
 ],
 "metadata": {
  "kernelspec": {
   "display_name": "Python 3",
   "language": "python",
   "name": "python3"
  },
  "language_info": {
   "codemirror_mode": {
    "name": "ipython",
    "version": 3
   },
   "file_extension": ".py",
   "mimetype": "text/x-python",
   "name": "python",
   "nbconvert_exporter": "python",
   "pygments_lexer": "ipython3",
   "version": "3.8.3"
  }
 },
 "nbformat": 4,
 "nbformat_minor": 2
}
